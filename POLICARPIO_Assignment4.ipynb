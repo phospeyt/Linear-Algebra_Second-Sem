{
  "nbformat": 4,
  "nbformat_minor": 0,
  "metadata": {
    "colab": {
      "name": "Assignment 3.ipynb",
      "provenance": [],
      "collapsed_sections": [],
      "authorship_tag": "ABX9TyNGEkjloV+SD4fTM5Q9VY9e",
      "include_colab_link": true
    },
    "kernelspec": {
      "name": "python3",
      "display_name": "Python 3"
    },
    "language_info": {
      "name": "python"
    }
  },
  "cells": [
    {
      "cell_type": "markdown",
      "metadata": {
        "id": "view-in-github",
        "colab_type": "text"
      },
      "source": [
        "<a href=\"https://colab.research.google.com/github/phospeyt/Linear-Algebra_Second-Sem/blob/main/POLICARPIO_Assignment4.ipynb\" target=\"_parent\"><img src=\"https://colab.research.google.com/assets/colab-badge.svg\" alt=\"Open In Colab\"/></a>"
      ]
    },
    {
      "cell_type": "markdown",
      "source": [
        "# Linear Algebra for CHE\n",
        "## Laboratory 4: Matrices "
      ],
      "metadata": {
        "id": "aSP20ms7xahs"
      }
    },
    {
      "cell_type": "markdown",
      "source": [
        "Now that you have a fundamental knowlege about Python, well try to look into greater dimensions. \n",
        "\n",
        "##Objectives\n",
        "\n",
        "At the end of this activity you will be able to:\n",
        "\n",
        "  1. Be familiar with matrices and their relation to linear equations.\n",
        "  2. Perform basic matrix operations.\n",
        "  3. Program and translate matrix equations and operations using Python.\n",
        "\n"
      ],
      "metadata": {
        "id": "UD-hoe-Zx3gp"
      }
    },
    {
      "cell_type": "markdown",
      "source": [
        "##Discussion"
      ],
      "metadata": {
        "id": "lJaTXxiJyX9z"
      }
    },
    {
      "cell_type": "code",
      "source": [
        "import numpy as np\n",
        "import matplotlib.pyplot as plt\n",
        "import scipy.linalg as la\n",
        "%matplotlib inline"
      ],
      "metadata": {
        "id": "vrfBUuXbycd8"
      },
      "execution_count": null,
      "outputs": []
    },
    {
      "cell_type": "markdown",
      "source": [
        "Matrices\n",
        "\n",
        "The notation and use of matrices is probably one of the fundamentals of modern computing. Matrices are the also handy representations of complex equations or multiple inter-related equations from 2- dimensional equations to even hundreds and thousands of them,\n",
        "\n",
        "Let's say for example you have A and B as a system of equation. "
      ],
      "metadata": {
        "id": "JTxtqV6Kzhej"
      }
    },
    {
      "cell_type": "markdown",
      "source": [
        "$$\n",
        "A = \\left\\{\n",
        "    \\begin{array}\\\n",
        "        x + y \\\\ \n",
        "        4x - 10y\n",
        "    \\end{array}\n",
        "\\right. \\\\\n",
        "B = \\left\\{\n",
        "    \\begin{array}\\\n",
        "        x+y+z \\\\ \n",
        "        3x -2y -z \\\\\n",
        "        -x + 4y +2z\n",
        "    \\end{array}\n",
        "\\right. \\\\\n",
        "C= \\left\\{\n",
        "   \\begin{array}\\\n",
        "      w-2x+3y-4z \\\\\n",
        "      3w- x -2y +z \\\\\n",
        "      2w -x +3y - 2z\n",
        "    \\end{array}\n",
        "\\right. $$"
      ],
      "metadata": {
        "id": "UwlbVOmN0W3_"
      }
    },
    {
      "cell_type": "markdown",
      "source": [
        "We could see that  is a system of 2 equations with 2 parameters. While  is a system of 3 equations with 3 parameters. We can represent them as matrices as:"
      ],
      "metadata": {
        "id": "v2fk4fL61gml"
      }
    },
    {
      "cell_type": "markdown",
      "source": [
        "$$\n",
        "A=\\begin{bmatrix} 1 & 1 \\\\ 4 & {-10}\\end{bmatrix} \\\\\n",
        "B=\\begin{bmatrix} 1 & 1 & 1 \\\\ 3 & -2 & -1 \\\\ -1 & 4 & 2\\end{bmatrix}\n",
        "\\\\\n",
        "C=\\begin{bmatrix} 1 & -2 & 3 & -4 \\\\ 3 & -1 & -2 & 1 \\\\ 2 & -1 & 3 & -2\\end\n",
        "{bmatrix}\n",
        "$$"
      ],
      "metadata": {
        "id": "4o0v3Slx1xm3"
      }
    },
    {
      "cell_type": "markdown",
      "source": [
        "So assuming that you already discussed the fundamental representation of matrices, their types, and operations. We'll proceed in doing them in here in Python."
      ],
      "metadata": {
        "id": "GLTAuIA13It1"
      }
    },
    {
      "cell_type": "markdown",
      "source": [
        "Declaring Matrices\n",
        "\n",
        "Just like our previous laboratory activity, we'll represent system of linear equations as a matrix. The entities or numbers in matrices are called\n",
        "the elements of a matrix. These elements are arranged and ordered in rows and columns which form the list/array-like structure of matrices.\n",
        "And just like arrays, these elements are indexed according to their position with respect to their rows and columns. This can be reprsented\n",
        "just like the equation below. Whereas A is a matrix consisting of elements denoted by Qi g. Denoted by i is the number of rows in the matrix\n",
        "while j stands for the number of columns.\n",
        "Do note that the size of a matrix is i x j."
      ],
      "metadata": {
        "id": "Jm_Srw0H3KCU"
      }
    },
    {
      "cell_type": "markdown",
      "source": [
        "$$A=\\begin{bmatrix}\n",
        "a_{(0,0)}&a_{(0,1)}&\\dots&a_{(0,j-1)}\\\\\n",
        "a_{(1,0)}&a_{(1,1)}&\\dots&a_{(1,j-1)}\\\\\n",
        "\\vdots&\\vdots&\\ddots&\\vdots&\\\\\n",
        "a_{(i-1,0)}&a_{(i-1,1)}&\\dots&a_{(i-1,j-1)}\n",
        "\\end{bmatrix}\n",
        "$$"
      ],
      "metadata": {
        "id": "GK6qVf403YSc"
      }
    },
    {
      "cell_type": "markdown",
      "source": [
        "We already gone over some of the types of matrices as vectors but we'll further discuss them in this laboratory activity. Since you already know how to describe vectors using shape, dimensions and size attributes, we'll use them to analyze these matrices.\n",
        "\n"
      ],
      "metadata": {
        "id": "JwW1erFS3ys3"
      }
    },
    {
      "cell_type": "code",
      "source": [
        "## Since we'll keep on descriibing matrices, Let's make a function.\n",
        "def describe_mat(matrix):\n",
        "    print(f'Matrix:\\n{matrix}\\n\\nShape:\\t{matrix.shape}\\nRank:\\t{matrix.ndim}\\n')"
      ],
      "metadata": {
        "id": "d_AP9W7x4And"
      },
      "execution_count": null,
      "outputs": []
    },
    {
      "cell_type": "code",
      "source": [
        "## Declaring a 2x2 matrix\n",
        "F = np.array([\n",
        "    [2, 3],\n",
        "    [5, 4]\n",
        "])\n",
        "describe_mat(F)"
      ],
      "metadata": {
        "colab": {
          "base_uri": "https://localhost:8080/"
        },
        "id": "38TdM6rm4mbc",
        "outputId": "3bf9231f-202c-4f23-ce6a-85c2a1ece0ba"
      },
      "execution_count": null,
      "outputs": [
        {
          "output_type": "stream",
          "name": "stdout",
          "text": [
            "Matrix:\n",
            "[[2 3]\n",
            " [5 4]]\n",
            "\n",
            "Shape:\t(2, 2)\n",
            "Rank:\t2\n",
            "\n"
          ]
        }
      ]
    },
    {
      "cell_type": "code",
      "source": [
        "N = np.array([\n",
        "    [1,1,3],\n",
        "    [2,2,4]\n",
        "])\n",
        "describe_mat(N)\n"
      ],
      "metadata": {
        "colab": {
          "base_uri": "https://localhost:8080/"
        },
        "id": "pAUoO0BR6H0J",
        "outputId": "6c4b7b9b-286b-4cb8-d81c-99c5fdf56f30"
      },
      "execution_count": null,
      "outputs": [
        {
          "output_type": "stream",
          "name": "stdout",
          "text": [
            "Matrix:\n",
            "[[1 1 3]\n",
            " [2 2 4]]\n",
            "\n",
            "Shape:\t(2, 3)\n",
            "Rank:\t2\n",
            "\n"
          ]
        }
      ]
    },
    {
      "cell_type": "code",
      "source": [
        "## Declaring a 3 x 2 matrix\n",
        "A = np.array([\n",
        "    [2, 3],\n",
        "    [5, 4],\n",
        "    [3,3]\n",
        "])\n",
        "describe_mat(A)"
      ],
      "metadata": {
        "colab": {
          "base_uri": "https://localhost:8080/"
        },
        "id": "2-oLPxLc6ZvC",
        "outputId": "7bf89185-0234-45b4-b48b-8296556538ea"
      },
      "execution_count": null,
      "outputs": [
        {
          "output_type": "stream",
          "name": "stdout",
          "text": [
            "Matrix:\n",
            "[[2 3]\n",
            " [5 4]\n",
            " [3 3]]\n",
            "\n",
            "Shape:\t(3, 2)\n",
            "Rank:\t2\n",
            "\n"
          ]
        }
      ]
    },
    {
      "cell_type": "code",
      "source": [
        "O = np.array([8,7,6,5,4])\n",
        "describe_mat(O)"
      ],
      "metadata": {
        "colab": {
          "base_uri": "https://localhost:8080/"
        },
        "id": "8im12DQZ6ljp",
        "outputId": "07ac57a0-cad6-4e34-dfe4-bc0de3580fee"
      },
      "execution_count": null,
      "outputs": [
        {
          "output_type": "stream",
          "name": "stdout",
          "text": [
            "Matrix:\n",
            "[8 7 6 5 4]\n",
            "\n",
            "Shape:\t(5,)\n",
            "Rank:\t1\n",
            "\n"
          ]
        }
      ]
    },
    {
      "cell_type": "markdown",
      "source": [
        "#Categorizing Matrices\n",
        "\n",
        "There are several ways of classifying matrices. Once could be according to their shape and another is according to their element values. We'll try to go through them.\n",
        "\n",
        "\n",
        "\n"
      ],
      "metadata": {
        "id": "pZVPJDfw7SJL"
      }
    },
    {
      "cell_type": "markdown",
      "source": [
        "##**According** **to** **shape**"
      ],
      "metadata": {
        "id": "GKI5Roft71pI"
      }
    },
    {
      "cell_type": "markdown",
      "source": [
        "Row and Column Matrices\n",
        "\n",
        "In vector and matrix computations, row and column matrices are frequently used. Additionally, they can be used to represent the row and column spaces of a larger vector space. Single column or single row matrices are used to depict row and column matrices. Thus, row matrices have the shape I x j, while column matrices have the shape I x l."
      ],
      "metadata": {
        "id": "W3lW-9Yq7-QK"
      }
    },
    {
      "cell_type": "code",
      "source": [
        "## Declaring a Row Matrix\n",
        "\n",
        "row_mat_1D = np.array([\n",
        "    1, 2, 3, 4\n",
        "]) ## this is a 1-D Matrix with a shape of (4,), it's not really considered as a row matrix.\n",
        "row_mat_2D = np.array([\n",
        "    [1,2,3, -4]\n",
        "]) ## this is a 2-D Matrix with a shape of (1,4)\n",
        "describe_mat(row_mat_1D)\n",
        "describe_mat(row_mat_2D)"
      ],
      "metadata": {
        "colab": {
          "base_uri": "https://localhost:8080/"
        },
        "id": "1BVLFQPo7jCp",
        "outputId": "0152f21f-1d89-4b1a-86a9-8edb758a8b74"
      },
      "execution_count": null,
      "outputs": [
        {
          "output_type": "stream",
          "name": "stdout",
          "text": [
            "Matrix:\n",
            "[1 2 3 4]\n",
            "\n",
            "Shape:\t(4,)\n",
            "Rank:\t1\n",
            "\n",
            "Matrix:\n",
            "[[ 1  2  3 -4]]\n",
            "\n",
            "Shape:\t(1, 4)\n",
            "Rank:\t2\n",
            "\n"
          ]
        }
      ]
    },
    {
      "cell_type": "code",
      "source": [
        "## Declaring a Column Matrix\n",
        "\n",
        "col_mat = np.array([\n",
        "    [2],\n",
        "    [4],\n",
        "    [6],\n",
        "    [8]\n",
        "]) ## This is a 2-D Matrix with a shape of (4,1)\n",
        "describe_mat(col_mat)\n"
      ],
      "metadata": {
        "colab": {
          "base_uri": "https://localhost:8080/"
        },
        "id": "C2bwvoCB9Xhg",
        "outputId": "5d6c1fa0-d1ae-48c2-9cd4-bd18c512bf5b"
      },
      "execution_count": null,
      "outputs": [
        {
          "output_type": "stream",
          "name": "stdout",
          "text": [
            "Matrix:\n",
            "[[2]\n",
            " [4]\n",
            " [6]\n",
            " [8]]\n",
            "\n",
            "Shape:\t(4, 1)\n",
            "Rank:\t2\n",
            "\n"
          ]
        }
      ]
    },
    {
      "cell_type": "markdown",
      "source": [
        "Square Matrix\n",
        "\n",
        "Square matrices have the same row and column dimensions. We could say that a matrix is square if and only if. To determine square matrices, we can tweak our matrix descriptor function."
      ],
      "metadata": {
        "id": "lZYHBCDd-APQ"
      }
    },
    {
      "cell_type": "code",
      "source": [
        "def describe_mat(matrix):\n",
        "  is_square = True if matrix.shape[0] == matrix.shape[1] else False\n",
        "  print(f'Matrix:\\n{matrix}\\n\\nShape:\\t{matrix.Shape}\\nRank:\\t{matrix.ndim}\\nIs Square: {is_square}\\n')"
      ],
      "metadata": {
        "id": "VzBvWor5-EHl"
      },
      "execution_count": null,
      "outputs": []
    },
    {
      "cell_type": "code",
      "source": [
        "square_mat = np.array([\n",
        "  [1,2,6],\n",
        "  [4,8,12],\n",
        "  [6,12,18]\n",
        "])\n",
        "\n",
        "non_square_mat = np.array([\n",
        "  [3,2,1],\n",
        "  [4,3,2]                \n",
        "])\n",
        "describe_mat(square_mat)\n",
        "describe_mat(non_square_mat)"
      ],
      "metadata": {
        "colab": {
          "base_uri": "https://localhost:8080/"
        },
        "id": "YBFqbV-c-vU5",
        "outputId": "0ae2ed00-3895-4819-beb0-51db9aa186ce"
      },
      "execution_count": null,
      "outputs": [
        {
          "output_type": "stream",
          "name": "stdout",
          "text": [
            "Matrix:\n",
            "[[ 1  2  6]\n",
            " [ 4  8 12]\n",
            " [ 6 12 18]]\n",
            "\n",
            "Shape:\t(3, 3)\n",
            "Rank:\t2\n",
            "\n",
            "Matrix:\n",
            "[[3 2 1]\n",
            " [4 3 2]]\n",
            "\n",
            "Shape:\t(2, 3)\n",
            "Rank:\t2\n",
            "\n"
          ]
        }
      ]
    },
    {
      "cell_type": "markdown",
      "source": [
        "## **According to Element Values**"
      ],
      "metadata": {
        "id": "ktFqs1D1BDEN"
      }
    },
    {
      "cell_type": "markdown",
      "source": [
        "##### Null Matrix\n",
        "\n",
        "A Null Matrix is an empty matrix. It is always a subspace of a vector or matrix of any dimension."
      ],
      "metadata": {
        "id": "xW3lULCEBF66"
      }
    },
    {
      "cell_type": "code",
      "source": [
        "def describe_mat(matrix):\n",
        "    if matrix.size > 0:\n",
        "        is_square = True if matrix.shape[0] == matrix.shape[1] else False\n",
        "        print(f'Matrix:\\n{matrix}\\n\\nShape:\\t{matrix.shape}\\nRank:\\t{matrux.ndim}\\nIs Square: {is_square}\\n')\n",
        "    else:\n",
        "        print('Matrix is Null')"
      ],
      "metadata": {
        "id": "PAbBIhVrBRQo"
      },
      "execution_count": null,
      "outputs": []
    },
    {
      "cell_type": "code",
      "source": [
        "null_mat= np.array([])\n",
        "describe_mat(null_mat)"
      ],
      "metadata": {
        "colab": {
          "base_uri": "https://localhost:8080/"
        },
        "id": "NkWzK_z7CEtW",
        "outputId": "bd01fa13-c5b7-453b-ef4d-203f213c2da2"
      },
      "execution_count": null,
      "outputs": [
        {
          "output_type": "stream",
          "name": "stdout",
          "text": [
            "Matrix is Null\n"
          ]
        }
      ]
    },
    {
      "cell_type": "markdown",
      "source": [
        " Zero Matrix\n",
        "\n",
        "Zero matrix is a matrix with any dimensions in which all of its element entries are zeros."
      ],
      "metadata": {
        "id": "SZl69cNqz6Pw"
      }
    },
    {
      "cell_type": "code",
      "source": [
        "zero_mat_row = np.zeros ((1,2))\n",
        "zero_mat_sqr = np.zeros ((2,2))\n",
        "zero_mat_rct = np.zeros ((2,2))\n",
        "\n",
        "print(f'Zero Row Matrix: \\n{zero_mat_row}')\n",
        "print(f'Zero Square Matrix: \\n{zero_mat_sqr}')\n",
        "print(f'Zero Rectamgular Matrix: \\n{zero_mat_rct}')"
      ],
      "metadata": {
        "colab": {
          "base_uri": "https://localhost:8080/"
        },
        "id": "6PcoqMXDCdLu",
        "outputId": "4f1f0944-5098-4cc7-be7a-8b734332cc27"
      },
      "execution_count": null,
      "outputs": [
        {
          "output_type": "stream",
          "name": "stdout",
          "text": [
            "Zero Row Matrix: \n",
            "[[0. 0.]]\n",
            "Zero Square Matrix: \n",
            "[[0. 0.]\n",
            " [0. 0.]]\n",
            "Zero Rectamgular Matrix: \n",
            "[[0. 0.]\n",
            " [0. 0.]]\n"
          ]
        }
      ]
    },
    {
      "cell_type": "markdown",
      "source": [
        "Ones matrix\n",
        "\n",
        "A matrix of ones is a matrix in mathematics in which each element is equal to one. The following are some examples of standard notation: In some instances, the term \"unit matrix\" is used interchangeably with \"matrix of ones.\"\n"
      ],
      "metadata": {
        "id": "VzQ8MfuXD3eV"
      }
    },
    {
      "cell_type": "code",
      "source": [
        "ones_mat_row = np.ones ((1,2))\n",
        "ones_mat_sqr = np.ones ((2,2))\n",
        "ones_mat_rct = np.ones ((2,2))\n",
        "\n",
        "print(f'Ones Row Matrix: \\n{ones_mat_row}')\n",
        "print(f'Ones Square Matrix: \\n{ones_mat_sqr}')\n",
        "print(f'Ones Rectamgular Matrix: \\n{ones_mat_rct}')"
      ],
      "metadata": {
        "colab": {
          "base_uri": "https://localhost:8080/"
        },
        "id": "BN5qJOmCD9BM",
        "outputId": "ec365938-7abe-4b2a-e8c8-91e309a81bb9"
      },
      "execution_count": null,
      "outputs": [
        {
          "output_type": "stream",
          "name": "stdout",
          "text": [
            "Ones Row Matrix: \n",
            "[[1. 1.]]\n",
            "Ones Square Matrix: \n",
            "[[1. 1.]\n",
            " [1. 1.]]\n",
            "Ones Rectamgular Matrix: \n",
            "[[1. 1.]\n",
            " [1. 1.]]\n"
          ]
        }
      ]
    },
    {
      "cell_type": "markdown",
      "source": [
        "Diagonal Matrix\n",
        "\n",
        "A diagonal matrix contains both upper and lower triangular elements. i.e., every element above and below the principal diagonal is a zero."
      ],
      "metadata": {
        "id": "cgrO-kIdEnlA"
      }
    },
    {
      "cell_type": "code",
      "source": [
        "np.array([\n",
        "   [2,0,0],\n",
        "   [0,3,0],\n",
        "   [0,0,5]\n",
        "])\n",
        "# a[1,1], a[2,2], [3,3], ...a[n-1,n-1]"
      ],
      "metadata": {
        "colab": {
          "base_uri": "https://localhost:8080/"
        },
        "id": "-1RJfJg2Ewq1",
        "outputId": "019de6b2-b7bc-4075-9b54-8d2c126839ee"
      },
      "execution_count": null,
      "outputs": [
        {
          "output_type": "execute_result",
          "data": {
            "text/plain": [
              "array([[2, 0, 0],\n",
              "       [0, 3, 0],\n",
              "       [0, 0, 5]])"
            ]
          },
          "metadata": {},
          "execution_count": 36
        }
      ]
    },
    {
      "cell_type": "code",
      "source": [
        "d = np.diag([2,4,6,8])\n",
        "d.shape[0] == d.shape[1]\n",
        "d"
      ],
      "metadata": {
        "colab": {
          "base_uri": "https://localhost:8080/"
        },
        "id": "Lsd78kz5FP4k",
        "outputId": "b255047b-279a-4913-e810-0fe2d70cb0a9"
      },
      "execution_count": null,
      "outputs": [
        {
          "output_type": "execute_result",
          "data": {
            "text/plain": [
              "array([[2, 0, 0, 0],\n",
              "       [0, 4, 0, 0],\n",
              "       [0, 0, 6, 0],\n",
              "       [0, 0, 0, 8]])"
            ]
          },
          "metadata": {},
          "execution_count": 37
        }
      ]
    },
    {
      "cell_type": "markdown",
      "source": [
        "Identity Matrix\n",
        "\n",
        "The Identity Matrix is a nxn square matrix with a diagonal of ones and all other elements being zeros. Additionally, it is referred to as a Unit Matrix or Elementary matrix. It is denoted by the symbol In or simply by I, where n denotes the size of the square matrix."
      ],
      "metadata": {
        "id": "nkB4CRMyF0TN"
      }
    },
    {
      "cell_type": "code",
      "source": [
        "np.eye(3)\n"
      ],
      "metadata": {
        "colab": {
          "base_uri": "https://localhost:8080/"
        },
        "id": "07ojCTBBF-3g",
        "outputId": "c0a2df61-2cdf-4f13-be1b-8e85742bd192"
      },
      "execution_count": null,
      "outputs": [
        {
          "output_type": "execute_result",
          "data": {
            "text/plain": [
              "array([[1., 0., 0.],\n",
              "       [0., 1., 0.],\n",
              "       [0., 0., 1.]])"
            ]
          },
          "metadata": {},
          "execution_count": 24
        }
      ]
    },
    {
      "cell_type": "markdown",
      "source": [
        "Upper Triangular Matrix\n",
        "\n",
        "An upper triangular matrix is a matrix that has no values below the diagonal."
      ],
      "metadata": {
        "id": "Hf60JcY4GdB8"
      }
    },
    {
      "cell_type": "code",
      "source": [
        "np.array([\n",
        "  [1,2,3,4],\n",
        "  [0,4,6,8],\n",
        "  [0,0,9,12],\n",
        "  [0,0,0,16]\n",
        "])"
      ],
      "metadata": {
        "colab": {
          "base_uri": "https://localhost:8080/"
        },
        "id": "Xh3kqOw6Gghm",
        "outputId": "ab73afe0-b6d3-494b-c3b0-aa715ec7ed2d"
      },
      "execution_count": null,
      "outputs": [
        {
          "output_type": "execute_result",
          "data": {
            "text/plain": [
              "array([[ 1,  2,  3,  4],\n",
              "       [ 0,  4,  6,  8],\n",
              "       [ 0,  0,  9, 12],\n",
              "       [ 0,  0,  0, 16]])"
            ]
          },
          "metadata": {},
          "execution_count": 45
        }
      ]
    },
    {
      "cell_type": "markdown",
      "source": [
        "Lower Triangular Matrix\n",
        "\n",
        "A lower triangular matrix is a matrix that has no values above the diagonal.\n"
      ],
      "metadata": {
        "id": "1CeJMhusGudd"
      }
    },
    {
      "cell_type": "markdown",
      "source": [
        "##Practice"
      ],
      "metadata": {
        "id": "jda0itldHahU"
      }
    },
    {
      "cell_type": "markdown",
      "source": [
        "1. Given the linear combination below, try to create a corresponding matrix representing it."
      ],
      "metadata": {
        "id": "Cz7xlqwoHm_x"
      }
    },
    {
      "cell_type": "markdown",
      "source": [
        ":$$\\theta = 5x + 3y - z$$\n"
      ],
      "metadata": {
        "id": "wAMmsGBMHopz"
      }
    },
    {
      "cell_type": "markdown",
      "source": [
        "$$\n",
        "\\theta=\\begin{bmatrix} 5 & 3 & -1 \\end{bmatrix} \\\\\n",
        "$$"
      ],
      "metadata": {
        "id": "A68E578NE3FL"
      }
    },
    {
      "cell_type": "markdown",
      "source": [
        "2.Given the system of linear combinations below, try to encode it as a matrix. Also describe the matrix."
      ],
      "metadata": {
        "id": "42u3tDtsHyim"
      }
    },
    {
      "cell_type": "markdown",
      "source": [
        "$$\n",
        "A = \\left\\{\\begin{array}\n",
        "5x_1 + 2x_2 +x_3\\\\\n",
        "4x_2 - x_3\\\\\n",
        "10x_3\n",
        "\\end{array}\\right.\n",
        "$$"
      ],
      "metadata": {
        "id": "t7ZbLMVzIT9y"
      }
    },
    {
      "cell_type": "code",
      "source": [
        "def describe_mat(matrix):\n",
        "  is_square = True if matrix.shape[0]== matrix.shape[1] else False\n",
        "  print(f'matrix:\\n{matrix}\\n\\nShape:\\t{matrix.shape}\\nRank:\\t{matrix.ndim}\\nIs Square: {is_square}\\n')"
      ],
      "metadata": {
        "id": "j28LbN_UG2uj"
      },
      "execution_count": null,
      "outputs": []
    },
    {
      "cell_type": "code",
      "source": [
        "A = np.array([\n",
        "    [1,2,1],\n",
        "    [0,4,-1],\n",
        "    [0,0,10]\n",
        "])\n",
        "describe_mat(A)"
      ],
      "metadata": {
        "colab": {
          "base_uri": "https://localhost:8080/"
        },
        "id": "0hTKO5a2Hv6N",
        "outputId": "0a40ad76-aa29-4674-8dda-0abf771f16f1"
      },
      "execution_count": null,
      "outputs": [
        {
          "output_type": "stream",
          "name": "stdout",
          "text": [
            "matrix:\n",
            "[[ 1  2  1]\n",
            " [ 0  4 -1]\n",
            " [ 0  0 10]]\n",
            "\n",
            "Shape:\t(3, 3)\n",
            "Rank:\t2\n",
            "Is Square: True\n",
            "\n"
          ]
        }
      ]
    },
    {
      "cell_type": "markdown",
      "source": [
        "3. Given the matrix below, express it as a linear combination in a markdown and a LaTeX markdown\n",
        "\n",
        "\n",
        "\n"
      ],
      "metadata": {
        "id": "j2uy2B4hIURG"
      }
    },
    {
      "cell_type": "code",
      "source": [
        "G = np.array([\n",
        "    [1,7,8],\n",
        "    [2,2,2],\n",
        "    [4,6,7]\n",
        "])"
      ],
      "metadata": {
        "id": "kGWqfNY2-1hX"
      },
      "execution_count": null,
      "outputs": []
    },
    {
      "cell_type": "markdown",
      "source": [
        "$$\n",
        "G = \\left\\{\n",
        "    \\begin{array}\\\n",
        "        x + 7y + 8z \\\\ \n",
        "        2x + 2y + 2z \\\\\n",
        "        4x + 6y + 7z\n",
        "    \\end{array}\n",
        "\\right. $$"
      ],
      "metadata": {
        "id": "5dRwPFydI-AI"
      }
    },
    {
      "cell_type": "markdown",
      "source": [
        "$$\n",
        "G=\\begin{bmatrix} 1 & 7 & 8 \\\\ 2 & 2 & 2 \\\\ 4 & 6 & 7 \\end{bmatrix} \\\\\n",
        "$$"
      ],
      "metadata": {
        "id": "3kGowynyKK9n"
      }
    },
    {
      "cell_type": "markdown",
      "source": [
        "4. Given the matrix below, display the output as a LaTeX markdown also express it as a system of linear combinations."
      ],
      "metadata": {
        "id": "KPgiGSUu_MSJ"
      }
    },
    {
      "cell_type": "code",
      "source": [
        "H = np.tril(G)\n",
        "H"
      ],
      "metadata": {
        "colab": {
          "base_uri": "https://localhost:8080/"
        },
        "id": "wuTu4lfQ_QY2",
        "outputId": "e557c88d-d201-44a8-e8ec-89f9599a646c"
      },
      "execution_count": null,
      "outputs": [
        {
          "output_type": "execute_result",
          "data": {
            "text/plain": [
              "array([[1, 0, 0],\n",
              "       [2, 2, 0],\n",
              "       [4, 6, 7]])"
            ]
          },
          "metadata": {},
          "execution_count": 9
        }
      ]
    },
    {
      "cell_type": "markdown",
      "source": [
        "$$\n",
        "H =\\begin{bmatrix} 1 & 0 & 0 \\\\ 2 & 2 & 0 \\\\ 4 & 6 & 7 \\end{bmatrix} \\\\\n",
        "$$"
      ],
      "metadata": {
        "id": "1hxL-BT4KqdK"
      }
    },
    {
      "cell_type": "markdown",
      "source": [
        "$$\n",
        "H = \\left\\{\n",
        "    \\begin{array}\\\n",
        "        x \\\\ \n",
        "        2x + 2x \\\\\n",
        "        4x + 6y + 7z\n",
        "    \\end{array}\n",
        "\\right. $$"
      ],
      "metadata": {
        "id": "D9Tm33e7K33F"
      }
    },
    {
      "cell_type": "markdown",
      "source": [
        "# **Matrix Algebra**"
      ],
      "metadata": {
        "id": "_ovNH1A2_Vlt"
      }
    },
    {
      "cell_type": "markdown",
      "source": [
        "Addition"
      ],
      "metadata": {
        "id": "qy1KQZWjJRKe"
      }
    },
    {
      "cell_type": "code",
      "source": [
        "A= np.array([\n",
        "    [1,2],\n",
        "    [2,3],\n",
        "    [4,1]       \n",
        "])\n",
        "B= np.array([\n",
        "    [6,2],\n",
        "    [4,3],\n",
        "    [4,5]          \n",
        "])\n",
        "A+B"
      ],
      "metadata": {
        "colab": {
          "base_uri": "https://localhost:8080/"
        },
        "id": "4DRwlVZfJTQ7",
        "outputId": "234003c4-58a9-4095-e5bb-e1063beadd34"
      },
      "execution_count": null,
      "outputs": [
        {
          "output_type": "execute_result",
          "data": {
            "text/plain": [
              "array([[7, 4],\n",
              "       [6, 6],\n",
              "       [8, 6]])"
            ]
          },
          "metadata": {},
          "execution_count": 39
        }
      ]
    },
    {
      "cell_type": "code",
      "source": [
        "3+A ##Broadcasting\n",
        "# 2*np.ones(A.shape)+A"
      ],
      "metadata": {
        "colab": {
          "base_uri": "https://localhost:8080/"
        },
        "id": "24Bcf2PzJulm",
        "outputId": "fcbbf055-28d0-4b65-805b-4e0661314151"
      },
      "execution_count": null,
      "outputs": [
        {
          "output_type": "execute_result",
          "data": {
            "text/plain": [
              "array([[4, 5],\n",
              "       [5, 6],\n",
              "       [7, 4]])"
            ]
          },
          "metadata": {},
          "execution_count": 12
        }
      ]
    },
    {
      "cell_type": "markdown",
      "source": [
        "Subtraction"
      ],
      "metadata": {
        "id": "8XLTfsjNKBed"
      }
    },
    {
      "cell_type": "code",
      "source": [
        "A-B"
      ],
      "metadata": {
        "colab": {
          "base_uri": "https://localhost:8080/"
        },
        "id": "ovCBBUTbKAyn",
        "outputId": "66d9a33e-a5ec-4910-eae9-a5963aefa57c"
      },
      "execution_count": null,
      "outputs": [
        {
          "output_type": "execute_result",
          "data": {
            "text/plain": [
              "array([[-5,  0],\n",
              "       [-2,  0],\n",
              "       [ 0, -4]])"
            ]
          },
          "metadata": {},
          "execution_count": 13
        }
      ]
    },
    {
      "cell_type": "code",
      "source": [
        "3-B"
      ],
      "metadata": {
        "colab": {
          "base_uri": "https://localhost:8080/"
        },
        "id": "X-hwhAytKGHL",
        "outputId": "cb5fed4b-024c-4574-f6fc-a7881cf68bad"
      },
      "execution_count": null,
      "outputs": [
        {
          "output_type": "execute_result",
          "data": {
            "text/plain": [
              "array([[-3,  1],\n",
              "       [-1,  0],\n",
              "       [-1, -2]])"
            ]
          },
          "metadata": {},
          "execution_count": 14
        }
      ]
    },
    {
      "cell_type": "markdown",
      "source": [
        "Element Wise Multiplication"
      ],
      "metadata": {
        "id": "OTKNWdtMKJKx"
      }
    },
    {
      "cell_type": "code",
      "source": [
        "A*B"
      ],
      "metadata": {
        "colab": {
          "base_uri": "https://localhost:8080/"
        },
        "id": "jkfZMPbOKTQY",
        "outputId": "03e4447b-3265-4294-85e0-3cee13a47b37"
      },
      "execution_count": null,
      "outputs": [
        {
          "output_type": "execute_result",
          "data": {
            "text/plain": [
              "array([[ 6,  4],\n",
              "       [ 8,  9],\n",
              "       [16,  5]])"
            ]
          },
          "metadata": {},
          "execution_count": 40
        }
      ]
    },
    {
      "cell_type": "code",
      "source": [
        "2*L"
      ],
      "metadata": {
        "colab": {
          "base_uri": "https://localhost:8080/"
        },
        "id": "p2F0EEm6KY7H",
        "outputId": "8190799c-7889-4a11-9dcb-ad031fa01e36"
      },
      "execution_count": null,
      "outputs": [
        {
          "output_type": "execute_result",
          "data": {
            "text/plain": [
              "array([[2, 4],\n",
              "       [4, 6],\n",
              "       [8, 2]])"
            ]
          },
          "metadata": {},
          "execution_count": 41
        }
      ]
    },
    {
      "cell_type": "code",
      "source": [
        "A = np.array([\n",
        "    [1,7,8],\n",
        "    [2,2,2],\n",
        "    [4,6,7]\n",
        "])\n",
        "\n",
        "B = np.array([\n",
        "    [5,7,8],\n",
        "    [2,6,2],\n",
        "    [2,6,8]\n",
        "])\n",
        "\n",
        "A@B"
      ],
      "metadata": {
        "colab": {
          "base_uri": "https://localhost:8080/"
        },
        "id": "17iOenu1Kbw0",
        "outputId": "d8a5f30d-ef63-4772-c054-f2d9d2705a39"
      },
      "execution_count": null,
      "outputs": [
        {
          "output_type": "execute_result",
          "data": {
            "text/plain": [
              "array([[ 35,  97,  86],\n",
              "       [ 18,  38,  36],\n",
              "       [ 46, 106, 100]])"
            ]
          },
          "metadata": {},
          "execution_count": 43
        }
      ]
    },
    {
      "cell_type": "code",
      "source": [
        "F = np.array([\n",
        "    [1,7,8],\n",
        "    [2,2,2],\n",
        "    [4,6,7]\n",
        "])"
      ],
      "metadata": {
        "id": "bHDR1d4iJOhh"
      },
      "execution_count": null,
      "outputs": []
    },
    {
      "cell_type": "code",
      "source": [
        "alpha=10**-10\n",
        "F/(alpha+F)"
      ],
      "metadata": {
        "id": "8Rwy0Oj9FFC_",
        "colab": {
          "base_uri": "https://localhost:8080/"
        },
        "outputId": "a76a2fde-4d6e-4798-fe12-88eb4a8552bf"
      },
      "execution_count": null,
      "outputs": [
        {
          "output_type": "execute_result",
          "data": {
            "text/plain": [
              "array([[1., 1., 1.],\n",
              "       [1., 1., 1.],\n",
              "       [1., 1., 1.]])"
            ]
          },
          "metadata": {},
          "execution_count": 30
        }
      ]
    },
    {
      "cell_type": "code",
      "source": [
        "np.add(L,F)\n"
      ],
      "metadata": {
        "colab": {
          "base_uri": "https://localhost:8080/"
        },
        "id": "nnyMmN4uBF9b",
        "outputId": "194f77db-7f0a-4f7a-b11a-7300ed68e9f5"
      },
      "execution_count": null,
      "outputs": [
        {
          "output_type": "execute_result",
          "data": {
            "text/plain": [
              "array([[ 6, 14, 16],\n",
              "       [ 4,  8,  4],\n",
              "       [ 6, 12, 15]])"
            ]
          },
          "metadata": {},
          "execution_count": 31
        }
      ]
    },
    {
      "cell_type": "markdown",
      "source": [
        "# **Activity**"
      ],
      "metadata": {
        "id": "-XHTF7-9BMzI"
      }
    },
    {
      "cell_type": "markdown",
      "source": [
        "**Task 1**\n",
        "Create a function named mat_desc() that througouhly describes a matrix, it should:\n",
        "\n",
        "1. Displays the shape, size, and rank of the matrix.\n",
        "2. Displays whether the matrix is square or non-square.\n",
        "3. Displays whether the matrix is an empty matrix.\n",
        "4. Displays if the matrix is an identity, ones, or zeros matrix\n",
        "\n",
        "Use 3 sample matrices in which their shapes are not lower than . In your methodology, create a flowchart discuss the functions and methods you have done. Present your results in the results section showing the description of each matrix you have declared."
      ],
      "metadata": {
        "id": "Uj-mk74oBUAZ"
      }
    },
    {
      "cell_type": "code",
      "source": [
        "def mat_desc(mat):\n",
        "    sq = False\n",
        "    mat = np.array(mat)\n",
        "    print(mat)\n",
        "    print('Shape:', mat.shape)\n",
        "    print('Size:', mat.size)\n",
        "    print('Rank:', np.linalg.matrix_rank(mat))\n",
        "    if(mat.shape[0] == mat.shape[1]):\n",
        "        sq = True\n",
        "        print('The matrix is square')\n",
        "    else:\n",
        "        print('The matrix is non-square')\n",
        "    if(mat.shape[0] == 0 and mat.shape[1] == 0):\n",
        "        print('The matrix is empty')\n",
        "    else:\n",
        "        print('The matrix is not empty')\n",
        "    iden = np.identity(mat.shape[0])\n",
        "    if(sq and (iden == mat).all()):\n",
        "        print('The matrix is an identity matrix')\n",
        "    else:\n",
        "        print('The matrix is not an identity matrix')\n",
        "    one = np.ones((mat.shape[0], mat.shape[1]))\n",
        "    if((one == mat).all()):\n",
        "        print('The matrix is an ones matrix')\n",
        "    else:\n",
        "        print('The matrix is not an ones matrix')\n",
        "    zero = np.zeros((mat.shape[0], mat.shape[1]))\n",
        "    if((zero == mat).all()):\n",
        "        print('The matrix is an zeros matrix')\n",
        "    else:\n",
        "        print('The matrix is not a zeros matrix')"
      ],
      "metadata": {
        "id": "P_H0SyivB-1V"
      },
      "execution_count": null,
      "outputs": []
    },
    {
      "cell_type": "code",
      "source": [
        "G = np.array([\n",
        "    [1,7,8],\n",
        "    [2,2,2],\n",
        "    [4,6,7]\n",
        "])\n",
        "\n",
        "mat_desc(G)"
      ],
      "metadata": {
        "colab": {
          "base_uri": "https://localhost:8080/"
        },
        "id": "KbT875VDcYrf",
        "outputId": "b427985c-1e21-4ff1-f250-9eab3c1e2f9a"
      },
      "execution_count": null,
      "outputs": [
        {
          "output_type": "stream",
          "name": "stdout",
          "text": [
            "[[1 7 8]\n",
            " [2 2 2]\n",
            " [4 6 7]]\n",
            "Shape: (3, 3)\n",
            "Size: 9\n",
            "Rank: 3\n",
            "The matrix is square\n",
            "The matrix is not empty\n",
            "The matrix is not an identity matrix\n",
            "The matrix is not an ones matrix\n",
            "The matrix is not a zeros matrix\n"
          ]
        }
      ]
    },
    {
      "cell_type": "code",
      "source": [
        "G = np.array([\n",
        "    [0,1,4,8],\n",
        "    [3,5,7,9],\n",
        "    [2,6,4,8]\n",
        "])\n",
        "\n",
        "mat_desc(G)"
      ],
      "metadata": {
        "colab": {
          "base_uri": "https://localhost:8080/"
        },
        "id": "J5aD1HimzgHI",
        "outputId": "bc126382-a027-409f-87c7-0f8bf19ee390"
      },
      "execution_count": null,
      "outputs": [
        {
          "output_type": "stream",
          "name": "stdout",
          "text": [
            "[[0 1 4 8]\n",
            " [3 5 7 9]\n",
            " [2 6 4 8]]\n",
            "Shape: (3, 4)\n",
            "Size: 12\n",
            "Rank: 3\n",
            "The matrix is non-square\n",
            "The matrix is not empty\n",
            "The matrix is not an identity matrix\n",
            "The matrix is not an ones matrix\n",
            "The matrix is not a zeros matrix\n"
          ]
        }
      ]
    },
    {
      "cell_type": "code",
      "source": [
        "G = np.array([\n",
        "    [0,6,7,2],\n",
        "    [3,5,8,4],\n",
        "    [2,3,4,9],\n",
        "    [0,4,3,2]\n",
        "])\n",
        "\n",
        "mat_desc(G)"
      ],
      "metadata": {
        "colab": {
          "base_uri": "https://localhost:8080/"
        },
        "id": "J9SML-fX1LuA",
        "outputId": "f59071e9-dc6e-4465-8be7-23ec1f29de63"
      },
      "execution_count": null,
      "outputs": [
        {
          "output_type": "stream",
          "name": "stdout",
          "text": [
            "[[0 6 7 2]\n",
            " [3 5 8 4]\n",
            " [2 3 4 9]\n",
            " [0 4 3 2]]\n",
            "Shape: (4, 4)\n",
            "Size: 16\n",
            "Rank: 4\n",
            "The matrix is square\n",
            "The matrix is not empty\n",
            "The matrix is not an identity matrix\n",
            "The matrix is not an ones matrix\n",
            "The matrix is not a zeros matrix\n"
          ]
        }
      ]
    },
    {
      "cell_type": "code",
      "source": [
        "G = np.array([\n",
        "    [0,0,0,0],\n",
        "    [0,0,0,0],\n",
        "    [0,0,0,0],\n",
        "    [0,0,0,0]\n",
        "])\n",
        "\n",
        "mat_desc(G)"
      ],
      "metadata": {
        "colab": {
          "base_uri": "https://localhost:8080/"
        },
        "id": "QotGOOYi1fPJ",
        "outputId": "fbcbef80-5172-4138-9a91-5b613c545997"
      },
      "execution_count": null,
      "outputs": [
        {
          "output_type": "stream",
          "name": "stdout",
          "text": [
            "[[0 0 0 0]\n",
            " [0 0 0 0]\n",
            " [0 0 0 0]\n",
            " [0 0 0 0]]\n",
            "Shape: (4, 4)\n",
            "Size: 16\n",
            "Rank: 0\n",
            "The matrix is square\n",
            "The matrix is not empty\n",
            "The matrix is not an identity matrix\n",
            "The matrix is not an ones matrix\n",
            "The matrix is an zeros matrix\n"
          ]
        }
      ]
    },
    {
      "cell_type": "markdown",
      "source": [
        "**Task 2**\n",
        "Create a function named mat_operations() that takes in two matrices a input parameters it should:\n",
        "\n",
        "1. Determines if the matrices are viable for operation and returns your own error message if they are not viable.\n",
        "2. Returns the sum of the matrices.\n",
        "3. Returns the differen of the matrices.\n",
        "4. Returns the element-wise multiplication of the matrices.\n",
        "5. Returns the element-wise division of the matrices.\n",
        "\n",
        "Use 3 sample matrices in which their shapes are not lower than (3,3). In your methodology, create a flowchart discuss the functions and methods you have done. Present your results in the results section showing the description of each matrix you have declared."
      ],
      "metadata": {
        "id": "dKp1Otq2CxBV"
      }
    },
    {
      "cell_type": "code",
      "source": [
        "def mat_operations(mat1, mat2):\n",
        "    mat1 = np.array(mat1)\n",
        "    mat2 = np.array(mat2)\n",
        "    print('Matrix 1:', mat1)\n",
        "    print('Matrix 2:', mat2)\n",
        "    if(mat1.shape != mat2.shape):\n",
        "        print('The shape of both matrices are not same. Could not perform operations.')\n",
        "        return\n",
        "    print('Sum of the given matrices:')\n",
        "    msum = mat1 + mat2\n",
        "    print(msum)\n",
        "    print('Difference of the given matrices:')\n",
        "    mdiff = mat1 - mat2\n",
        "    print(mdiff)\n",
        "    print('Element-wise multiplication of the given matrices:')\n",
        "    mmul = np.multiply(mat1, mat2)\n",
        "    print(mmul)\n",
        "    print('Element-wise division of the given matrices:')\n",
        "    mmul = np.divide(mat1, mat2)\n",
        "    print(mmul)\n"
      ],
      "metadata": {
        "id": "U8Fltg46Dd8l"
      },
      "execution_count": null,
      "outputs": []
    },
    {
      "cell_type": "code",
      "source": [
        "mat1 = np.array([\n",
        "    [1,7,8],\n",
        "    [2,2,2],\n",
        "    [4,6,7]\n",
        "])\n",
        "\n",
        "mat2 = np.array([\n",
        "    [1,7,8],\n",
        "    [2,2,2],\n",
        "    [4,6,7]\n",
        "])\n",
        "\n",
        "mat_operations(mat1, mat2)"
      ],
      "metadata": {
        "id": "m5fGL-8vDeNh",
        "colab": {
          "base_uri": "https://localhost:8080/"
        },
        "outputId": "3e4851eb-f969-4055-df94-73d863d36977"
      },
      "execution_count": null,
      "outputs": [
        {
          "output_type": "stream",
          "name": "stdout",
          "text": [
            "Matrix 1: [[1 7 8]\n",
            " [2 2 2]\n",
            " [4 6 7]]\n",
            "Matrix 2: [[1 7 8]\n",
            " [2 2 2]\n",
            " [4 6 7]]\n",
            "Sum of the given matrices:\n",
            "[[ 2 14 16]\n",
            " [ 4  4  4]\n",
            " [ 8 12 14]]\n",
            "Difference of the given matrices:\n",
            "[[0 0 0]\n",
            " [0 0 0]\n",
            " [0 0 0]]\n",
            "Element-wise multiplication of the given matrices:\n",
            "[[ 1 49 64]\n",
            " [ 4  4  4]\n",
            " [16 36 49]]\n",
            "Element-wise division of the given matrices:\n",
            "[[1. 1. 1.]\n",
            " [1. 1. 1.]\n",
            " [1. 1. 1.]]\n"
          ]
        }
      ]
    },
    {
      "cell_type": "code",
      "source": [
        "mat1 = np.array([\n",
        "    [0,0,0],\n",
        "    [0,0,0],\n",
        "    [0,0,0]\n",
        "])\n",
        "\n",
        "mat2 = np.array([\n",
        "    [1,7,8],\n",
        "    [2,2,2],\n",
        "    [4,6,7]\n",
        "])\n",
        "\n",
        "mat_operations(mat1, mat2)"
      ],
      "metadata": {
        "colab": {
          "base_uri": "https://localhost:8080/"
        },
        "id": "5g8IEArf45AC",
        "outputId": "d3ac88e5-adfd-46b0-87b7-e3235eff2c21"
      },
      "execution_count": null,
      "outputs": [
        {
          "output_type": "stream",
          "name": "stdout",
          "text": [
            "Matrix 1: [[0 0 0]\n",
            " [0 0 0]\n",
            " [0 0 0]]\n",
            "Matrix 2: [[1 7 8]\n",
            " [2 2 2]\n",
            " [4 6 7]]\n",
            "Sum of the given matrices:\n",
            "[[1 7 8]\n",
            " [2 2 2]\n",
            " [4 6 7]]\n",
            "Difference of the given matrices:\n",
            "[[-1 -7 -8]\n",
            " [-2 -2 -2]\n",
            " [-4 -6 -7]]\n",
            "Element-wise multiplication of the given matrices:\n",
            "[[0 0 0]\n",
            " [0 0 0]\n",
            " [0 0 0]]\n",
            "Element-wise division of the given matrices:\n",
            "[[0. 0. 0.]\n",
            " [0. 0. 0.]\n",
            " [0. 0. 0.]]\n"
          ]
        }
      ]
    },
    {
      "cell_type": "code",
      "source": [
        "mat1 = np.array([\n",
        "    [0,0,0],\n",
        "    [2,2,2],\n",
        "    [4,4,4]\n",
        "])\n",
        "\n",
        "mat2 = np.array([\n",
        "    [1,2,3],\n",
        "    [0,0,0],\n",
        "    [4,5,6]\n",
        "])\n",
        "\n",
        "mat_operations(mat1, mat2)"
      ],
      "metadata": {
        "colab": {
          "base_uri": "https://localhost:8080/"
        },
        "id": "hn_DLLvB5Due",
        "outputId": "f7e84880-a3ea-4d31-a3fc-085280a24b35"
      },
      "execution_count": null,
      "outputs": [
        {
          "output_type": "stream",
          "name": "stdout",
          "text": [
            "Matrix 1: [[0 0 0]\n",
            " [2 2 2]\n",
            " [4 4 4]]\n",
            "Matrix 2: [[1 2 3]\n",
            " [0 0 0]\n",
            " [4 5 6]]\n",
            "Sum of the given matrices:\n",
            "[[ 1  2  3]\n",
            " [ 2  2  2]\n",
            " [ 8  9 10]]\n",
            "Difference of the given matrices:\n",
            "[[-1 -2 -3]\n",
            " [ 2  2  2]\n",
            " [ 0 -1 -2]]\n",
            "Element-wise multiplication of the given matrices:\n",
            "[[ 0  0  0]\n",
            " [ 0  0  0]\n",
            " [16 20 24]]\n",
            "Element-wise division of the given matrices:\n",
            "[[0.         0.         0.        ]\n",
            " [       inf        inf        inf]\n",
            " [1.         0.8        0.66666667]]\n"
          ]
        },
        {
          "output_type": "stream",
          "name": "stderr",
          "text": [
            "/usr/local/lib/python3.7/dist-packages/ipykernel_launcher.py:19: RuntimeWarning: divide by zero encountered in true_divide\n"
          ]
        }
      ]
    },
    {
      "cell_type": "code",
      "source": [
        "mat1 = np.array([\n",
        "    [1,7,8],\n",
        "    [2,2,2],\n",
        "    [4,6,7]\n",
        "])\n",
        "\n",
        "mat2 = np.array([\n",
        "    [9,3,8,6],\n",
        "    [2,0,9,3],\n",
        "    [5,7,2,1]\n",
        "])\n",
        "\n",
        "mat_operations(mat1, mat2)"
      ],
      "metadata": {
        "id": "flYzQA3iDeZl",
        "colab": {
          "base_uri": "https://localhost:8080/"
        },
        "outputId": "3235fb39-c3e9-47c3-9f68-eaf7d614e87c"
      },
      "execution_count": null,
      "outputs": [
        {
          "output_type": "stream",
          "name": "stdout",
          "text": [
            "Matrix 1: [[1 7 8]\n",
            " [2 2 2]\n",
            " [4 6 7]]\n",
            "Matrix 2: [[9 3 8 6]\n",
            " [2 0 9 3]\n",
            " [5 7 2 1]]\n",
            "The shape of both matrices are not same. Could not perform operations.\n"
          ]
        }
      ]
    },
    {
      "cell_type": "markdown",
      "source": [
        "#**Conclusion**\n",
        "\n",
        "  Python is a well-known and popular programming language that is in great demand throughout the globe. It is applicable to a variety of fields, including data science, big data, programming, and application development. The students were able to practice and comprehend the concepts, syntax, and techniques of Python by completing this laboratory report. It entails familiarity with matrices and their relationship to linear equations, the ability to perform fundamental matrix operations, and the ability to program/translate matrix equations and operations. Learning the fundamentals undoubtedly aided in the acquisition of a load of new and useful characteristics. It will assist you in thinking more logically. You will be able to grasp complex ideas more easily and solve problems more effectively as a result of this course. \n",
        "\n",
        "  At the end of the module, the students became capable of applying the knowledge about the language by involving themselves in doing several practices such as creating a corresponding matrix representing a linear combination, encoding and describing it as a matrix, and expressing it as a linear combination in a markdown and a LaTeX markdown. On the other hand, two tasks were performed. The program begins by creating a function named mat desc() that comprehensively describes a matrix by displaying its shape, size, and rank, indicating whether the matrix is square or non-square, indicating whether the matrix is empty, and indicating whether the matrix is an identity, ones, or zeros matrix. The second task is to create a function named mat operations() that accepts two matrices as input parameters. It determines whether the matrices are viable for operation and returns your own error message if they are not, and it returns the matrices' sum, difference, element-wise multiplication, and element-wise division. Two flow charts were created in relation to the tasks that discussed the methods and functions used. Furthermore, learning the fundamentals of programming helps develop mental abilities that are extremely useful in a variety of other areas of life. The ability to deconstruct a large problem into a series of increasingly small tasks, to abstract a solution in order to make it applicable to a larger set of problems, and even to develop fluency in logical analysis through debugging are all developmental skills that aid in decision making and critical thinking, which are necessary for solving technology problems.\n"
      ],
      "metadata": {
        "id": "0tXQuNSjDe9-"
      }
    }
  ]
}