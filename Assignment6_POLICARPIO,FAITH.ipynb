{
  "nbformat": 4,
  "nbformat_minor": 0,
  "metadata": {
    "kernelspec": {
      "display_name": "Python 3",
      "language": "python",
      "name": "python3"
    },
    "language_info": {
      "codemirror_mode": {
        "name": "ipython",
        "version": 3
      },
      "file_extension": ".py",
      "mimetype": "text/x-python",
      "name": "python",
      "nbconvert_exporter": "python",
      "pygments_lexer": "ipython3",
      "version": "3.8.3"
    },
    "colab": {
      "name": "Assignment6_POLICARPIO,FAITH.ipynb",
      "provenance": [],
      "collapsed_sections": [],
      "include_colab_link": true
    }
  },
  "cells": [
    {
      "cell_type": "markdown",
      "metadata": {
        "id": "view-in-github",
        "colab_type": "text"
      },
      "source": [
        "<a href=\"https://colab.research.google.com/github/phospeyt/Linear-Algebra_Second-Sem/blob/main/Assignment6_POLICARPIO%2CFAITH.ipynb\" target=\"_parent\"><img src=\"https://colab.research.google.com/assets/colab-badge.svg\" alt=\"Open In Colab\"/></a>"
      ]
    },
    {
      "cell_type": "markdown",
      "metadata": {
        "id": "YH6dSOMX5qAQ"
      },
      "source": [
        "# Linear Algebra for ECE\n",
        "## Laboratory 6 : Matrix Operations"
      ]
    },
    {
      "cell_type": "markdown",
      "metadata": {
        "id": "jYeiRZm35qAU"
      },
      "source": [
        "Now that you have a fundamental knowledge about representing and operating with vectors as well as the fundamentals of matrices, we'll try to the same operations with matrices and even more."
      ]
    },
    {
      "cell_type": "markdown",
      "metadata": {
        "id": "BInKdhlu5qAV"
      },
      "source": [
        "### Objectives\n",
        "At the end of this activity you will be able to:\n",
        "1. Be familiar with the fundamental matrix operations.\n",
        "2. Apply the operations to solve intemrediate equations.\n",
        "3. Apply matrix algebra in engineering solutions."
      ]
    },
    {
      "cell_type": "markdown",
      "metadata": {
        "id": "Fz9EI_8Z5qAV"
      },
      "source": [
        "## Discussion"
      ]
    },
    {
      "cell_type": "code",
      "metadata": {
        "id": "S6r8UaPu5qAW"
      },
      "source": [
        "import numpy as np\n",
        "import matplotlib.pyplot as plt\n",
        "%matplotlib inline"
      ],
      "execution_count": 1,
      "outputs": []
    },
    {
      "cell_type": "markdown",
      "metadata": {
        "id": "ORllWzOl5qAX"
      },
      "source": [
        "## Transposition"
      ]
    },
    {
      "cell_type": "markdown",
      "metadata": {
        "id": "4LtZTUbY5qAY"
      },
      "source": [
        "\n",
        "In Python, transposing a matrix is a trivial task. Matrix transpose is simply an inverted version of the real matrix. We can obtain the transpose of any matrix by swapping the rows and columns. The row's items are converted to columns, and the columns' items are converted to rows. With this, the rows and columns from the original matrix will be switched. So for a matrix $A$ its transpose is denoted as $A^T$. So for example:"
      ]
    },
    {
      "cell_type": "markdown",
      "metadata": {
        "id": "HZeNXvo-5qAY"
      },
      "source": [
        "$$A = \\begin{bmatrix} 1 & 2 & 5\\\\5 & -1 &0 \\\\ 0 & -3 & 3\\end{bmatrix} $$"
      ]
    },
    {
      "cell_type": "markdown",
      "metadata": {
        "id": "tgGXC4Uz5qAZ"
      },
      "source": [
        "$$ A^T = \\begin{bmatrix} 1 & 5 & 0\\\\2 & -1 &-3 \\\\ 5 & 0 & 3\\end{bmatrix}$$"
      ]
    },
    {
      "cell_type": "markdown",
      "metadata": {
        "id": "JMVtzwZG5qAZ"
      },
      "source": [
        "This can now be achieved programmatically by using `np.transpose()` or using the `T` method."
      ]
    },
    {
      "cell_type": "code",
      "metadata": {
        "colab": {
          "base_uri": "https://localhost:8080/"
        },
        "id": "7cIxacBV5qAa",
        "outputId": "b1dc02c0-43cc-40ca-f0b4-d598f7193927"
      },
      "source": [
        "A = np.array([\n",
        "    [7 ,5, 6],\n",
        "    [2, -1, 0],\n",
        "    [1, -4, 8]\n",
        "])\n",
        "A"
      ],
      "execution_count": 2,
      "outputs": [
        {
          "output_type": "execute_result",
          "data": {
            "text/plain": [
              "array([[ 7,  5,  6],\n",
              "       [ 2, -1,  0],\n",
              "       [ 1, -4,  8]])"
            ]
          },
          "metadata": {},
          "execution_count": 2
        }
      ]
    },
    {
      "cell_type": "code",
      "metadata": {
        "id": "AhW8-DMO5qAb",
        "colab": {
          "base_uri": "https://localhost:8080/"
        },
        "outputId": "84535b0b-666f-4c08-8003-2e34b3cff4d2"
      },
      "source": [
        "AT1 = np.transpose(A)\n",
        "AT1\n"
      ],
      "execution_count": 3,
      "outputs": [
        {
          "output_type": "execute_result",
          "data": {
            "text/plain": [
              "array([[ 7,  2,  1],\n",
              "       [ 5, -1, -4],\n",
              "       [ 6,  0,  8]])"
            ]
          },
          "metadata": {},
          "execution_count": 3
        }
      ]
    },
    {
      "cell_type": "code",
      "metadata": {
        "id": "eP1SHyCK5qAb",
        "colab": {
          "base_uri": "https://localhost:8080/"
        },
        "outputId": "e8bbb93e-ed4c-4462-a266-3b5ac9a4b79a"
      },
      "source": [
        "AT2 = A.T\n",
        "AT2"
      ],
      "execution_count": 4,
      "outputs": [
        {
          "output_type": "execute_result",
          "data": {
            "text/plain": [
              "array([[ 7,  2,  1],\n",
              "       [ 5, -1, -4],\n",
              "       [ 6,  0,  8]])"
            ]
          },
          "metadata": {},
          "execution_count": 4
        }
      ]
    },
    {
      "cell_type": "code",
      "metadata": {
        "id": "sQzzt0hr5qAb",
        "colab": {
          "base_uri": "https://localhost:8080/"
        },
        "outputId": "48eae75e-b359-4b1a-d926-f1160ad98c31"
      },
      "source": [
        "np.array_equiv(AT1, AT2)"
      ],
      "execution_count": 5,
      "outputs": [
        {
          "output_type": "execute_result",
          "data": {
            "text/plain": [
              "True"
            ]
          },
          "metadata": {},
          "execution_count": 5
        }
      ]
    },
    {
      "cell_type": "code",
      "metadata": {
        "id": "Z2piL7OG5qAb",
        "colab": {
          "base_uri": "https://localhost:8080/"
        },
        "outputId": "01a8355a-7328-4df4-8d4c-f51f9dd0e045"
      },
      "source": [
        "B = np.array([\n",
        "    [3,8,3,9],\n",
        "    [6,0,2,7],\n",
        "])\n",
        "B.shape"
      ],
      "execution_count": 6,
      "outputs": [
        {
          "output_type": "execute_result",
          "data": {
            "text/plain": [
              "(2, 4)"
            ]
          },
          "metadata": {},
          "execution_count": 6
        }
      ]
    },
    {
      "cell_type": "code",
      "metadata": {
        "id": "AJ99IXpz5qAc",
        "outputId": "2cda7f16-e82b-41ea-8a85-b6c4a573b68f",
        "colab": {
          "base_uri": "https://localhost:8080/"
        }
      },
      "source": [
        "np.transpose(B).shape"
      ],
      "execution_count": 7,
      "outputs": [
        {
          "output_type": "execute_result",
          "data": {
            "text/plain": [
              "(4, 2)"
            ]
          },
          "metadata": {},
          "execution_count": 7
        }
      ]
    },
    {
      "cell_type": "code",
      "metadata": {
        "id": "lZCQUI7M5qAc",
        "outputId": "f34693a0-c60b-46e9-8d80-6ac59300a4d0",
        "colab": {
          "base_uri": "https://localhost:8080/"
        }
      },
      "source": [
        "B.T.shape"
      ],
      "execution_count": 8,
      "outputs": [
        {
          "output_type": "execute_result",
          "data": {
            "text/plain": [
              "(4, 2)"
            ]
          },
          "metadata": {},
          "execution_count": 8
        }
      ]
    },
    {
      "cell_type": "markdown",
      "metadata": {
        "id": "-GmVMkBk5qAc"
      },
      "source": [
        "#### Try to create your own matrix (you can try non-squares) to test transposition."
      ]
    },
    {
      "cell_type": "code",
      "metadata": {
        "id": "agJQTy6E5qAc",
        "colab": {
          "base_uri": "https://localhost:8080/"
        },
        "outputId": "7e09a795-7609-4890-b85b-3364b8f28a63"
      },
      "source": [
        "F = np.array([\n",
        "    [42 ,45, 26],\n",
        "    [30, -93, 52],\n",
        "    [52, -26, 17]\n",
        "])\n",
        "F"
      ],
      "execution_count": 9,
      "outputs": [
        {
          "output_type": "execute_result",
          "data": {
            "text/plain": [
              "array([[ 42,  45,  26],\n",
              "       [ 30, -93,  52],\n",
              "       [ 52, -26,  17]])"
            ]
          },
          "metadata": {},
          "execution_count": 9
        }
      ]
    },
    {
      "cell_type": "code",
      "source": [
        "FT1 = np.transpose(F)"
      ],
      "metadata": {
        "id": "6iL2eFzsTXFS"
      },
      "execution_count": 10,
      "outputs": []
    },
    {
      "cell_type": "code",
      "source": [
        "FT2 = F.T"
      ],
      "metadata": {
        "id": "voHQ-_5xTZL_"
      },
      "execution_count": 11,
      "outputs": []
    },
    {
      "cell_type": "code",
      "source": [
        "np.array_equiv(FT1, FT2)"
      ],
      "metadata": {
        "colab": {
          "base_uri": "https://localhost:8080/"
        },
        "id": "8x86yrrWTcAh",
        "outputId": "a4c482e6-2d98-4258-cd2a-92349f0b2a3f"
      },
      "execution_count": 12,
      "outputs": [
        {
          "output_type": "execute_result",
          "data": {
            "text/plain": [
              "True"
            ]
          },
          "metadata": {},
          "execution_count": 12
        }
      ]
    },
    {
      "cell_type": "code",
      "source": [
        "L = np.array([\n",
        "    [2,8,6,4],\n",
        "    [0,4,5,9],\n",
        "    [3,6,9,2]\n",
        "])\n",
        "L.shape"
      ],
      "metadata": {
        "colab": {
          "base_uri": "https://localhost:8080/"
        },
        "id": "dlNE1JhoTent",
        "outputId": "e62b6aa4-6a1b-4eb0-d248-c61eb1333bd5"
      },
      "execution_count": 13,
      "outputs": [
        {
          "output_type": "execute_result",
          "data": {
            "text/plain": [
              "(3, 4)"
            ]
          },
          "metadata": {},
          "execution_count": 13
        }
      ]
    },
    {
      "cell_type": "code",
      "source": [
        "np.transpose(L).shape"
      ],
      "metadata": {
        "colab": {
          "base_uri": "https://localhost:8080/"
        },
        "id": "ZXu-eya2TgtR",
        "outputId": "9790e671-4da6-41dd-f9bb-11f353416398"
      },
      "execution_count": 14,
      "outputs": [
        {
          "output_type": "execute_result",
          "data": {
            "text/plain": [
              "(4, 3)"
            ]
          },
          "metadata": {},
          "execution_count": 14
        }
      ]
    },
    {
      "cell_type": "code",
      "source": [
        "L.T.shape"
      ],
      "metadata": {
        "id": "iyddHcdxTj1e",
        "colab": {
          "base_uri": "https://localhost:8080/"
        },
        "outputId": "950c993d-dff3-4fef-b52b-a37e3c516411"
      },
      "execution_count": 15,
      "outputs": [
        {
          "output_type": "execute_result",
          "data": {
            "text/plain": [
              "(4, 3)"
            ]
          },
          "metadata": {},
          "execution_count": 15
        }
      ]
    },
    {
      "cell_type": "markdown",
      "metadata": {
        "id": "xkLTJ0fl5qAc"
      },
      "source": [
        "## Dot Product / Inner Product"
      ]
    },
    {
      "cell_type": "markdown",
      "metadata": {
        "id": "6kzi5rKI5qAd"
      },
      "source": [
        "\n",
        "The dot product, alternatively called the scalar product, is a mathematical operation that takes two equal-length sequences of numbers and returns a single number. Given two vectors A and B, we must find their dot product.\n",
        "\n",
        "If you recall the dot product from laboratory activity before, we will try to implement the same operation with matrices. In matrix dot product we are going to get the sum of products of the vectors by row-column pairs. So if we have two matrices $X$ and $Y$:\n",
        "\n",
        "$$X = \\begin{bmatrix}x_{(0,0)}&x_{(0,1)}\\\\ x_{(1,0)}&x_{(1,1)}\\end{bmatrix}, Y = \\begin{bmatrix}y_{(0,0)}&y_{(0,1)}\\\\ y_{(1,0)}&y_{(1,1)}\\end{bmatrix}$$\n",
        "\n",
        "The dot product will then be computed as:\n",
        "$$X \\cdot Y= \\begin{bmatrix} x_{(0,0)}*y_{(0,0)} + x_{(0,1)}*y_{(1,0)} & x_{(0,0)}*y_{(0,1)} + x_{(0,1)}*y_{(1,1)} \\\\  x_{(1,0)}*y_{(0,0)} + x_{(1,1)}*y_{(1,0)} & x_{(1,0)}*y_{(0,1)} + x_{(1,1)}*y_{(1,1)}\n",
        "\\end{bmatrix}$$\n",
        "\n",
        "So if we assign values to $X$ and $Y$:\n",
        "$$X = \\begin{bmatrix}1&2\\\\ 0&1\\end{bmatrix}, Y = \\begin{bmatrix}-1&0\\\\ 2&2\\end{bmatrix}$$"
      ]
    },
    {
      "cell_type": "markdown",
      "metadata": {
        "id": "JqxInb_P5qAd"
      },
      "source": [
        "$$X \\cdot Y= \\begin{bmatrix} 1*-1 + 2*2 & 1*0 + 2*2 \\\\  0*-1 + 1*2 & 0*0 + 1*2 \\end{bmatrix} = \\begin{bmatrix} 3 & 4 \\\\2 & 2 \\end{bmatrix}$$\n",
        "This could be achieved programmatically using `np.dot()`, `np.matmul()` or the `@` operator."
      ]
    },
    {
      "cell_type": "code",
      "metadata": {
        "id": "tcFdaGtG5qAd"
      },
      "source": [
        "X = np.array([\n",
        "    [31,42],\n",
        "    [40,12]\n",
        "])\n",
        "Y = np.array([\n",
        "    [-13,30],\n",
        "    [52,22]\n",
        "])"
      ],
      "execution_count": 21,
      "outputs": []
    },
    {
      "cell_type": "code",
      "metadata": {
        "id": "RUczGxF85qAe",
        "outputId": "4c210afb-640c-4ae4-a141-48e97a09e53b",
        "colab": {
          "base_uri": "https://localhost:8080/"
        }
      },
      "source": [
        "np.dot(X,Y)"
      ],
      "execution_count": 22,
      "outputs": [
        {
          "output_type": "execute_result",
          "data": {
            "text/plain": [
              "array([[1781, 1854],\n",
              "       [ 104, 1464]])"
            ]
          },
          "metadata": {},
          "execution_count": 22
        }
      ]
    },
    {
      "cell_type": "code",
      "metadata": {
        "id": "q-mALRKb5qAe",
        "outputId": "9f76c5f5-8f41-464f-e327-4f8e821790f2",
        "colab": {
          "base_uri": "https://localhost:8080/"
        }
      },
      "source": [
        "X.dot(Y)"
      ],
      "execution_count": 23,
      "outputs": [
        {
          "output_type": "execute_result",
          "data": {
            "text/plain": [
              "array([[1781, 1854],\n",
              "       [ 104, 1464]])"
            ]
          },
          "metadata": {},
          "execution_count": 23
        }
      ]
    },
    {
      "cell_type": "code",
      "metadata": {
        "id": "ZTuRvubF5qAe",
        "outputId": "a882c64c-d71f-4a43-b84f-176159000367",
        "colab": {
          "base_uri": "https://localhost:8080/"
        }
      },
      "source": [
        "X @ Y"
      ],
      "execution_count": 24,
      "outputs": [
        {
          "output_type": "execute_result",
          "data": {
            "text/plain": [
              "array([[1781, 1854],\n",
              "       [ 104, 1464]])"
            ]
          },
          "metadata": {},
          "execution_count": 24
        }
      ]
    },
    {
      "cell_type": "code",
      "metadata": {
        "id": "kKqFUIuC5qAe",
        "outputId": "189c6616-ffec-4a1b-bcc8-96758221b6c6",
        "colab": {
          "base_uri": "https://localhost:8080/"
        }
      },
      "source": [
        "np.matmul(X,Y)"
      ],
      "execution_count": 25,
      "outputs": [
        {
          "output_type": "execute_result",
          "data": {
            "text/plain": [
              "array([[1781, 1854],\n",
              "       [ 104, 1464]])"
            ]
          },
          "metadata": {},
          "execution_count": 25
        }
      ]
    },
    {
      "cell_type": "markdown",
      "metadata": {
        "id": "tmcO-1oc5qAf"
      },
      "source": [
        "In matrix dot products there are additional rules compared with vector dot products. Since vector dot products were just in one dimension there are less restrictions. Since now we are dealing with Rank 2 vectors we need to consider some rules:\n",
        "\n",
        "### Rule 1: The inner dimensions of the two matrices in question must be the same. \n",
        "\n",
        "So given a matrix $A$ with a shape of $(a,b)$ where $a$ and $b$ are any integers. If we want to do a dot product between $A$ and another matrix $B$, then matrix $B$ should have a shape of $(b,c)$ where $b$ and $c$ are any integers. So for given the following matrices:\n",
        "\n",
        "$$A = \\begin{bmatrix}2&4\\\\5&-2\\\\0&1\\end{bmatrix}, B = \\begin{bmatrix}1&1\\\\3&3\\\\-1&-2\\end{bmatrix}, C = \\begin{bmatrix}0&1&1\\\\1&1&2\\end{bmatrix}$$\n",
        "\n",
        "So in this case $A$ has a shape of $(3,2)$, $B$ has a shape of $(3,2)$ and $C$ has a shape of $(2,3)$. So the only matrix pairs that is eligible to perform dot product is matrices $A \\cdot C$, or $B \\cdot C$.  "
      ]
    },
    {
      "cell_type": "code",
      "metadata": {
        "colab": {
          "base_uri": "https://localhost:8080/"
        },
        "id": "BHg0ldDB5qAf",
        "outputId": "421f3fb8-06b6-456a-83fe-9c35080f1be2"
      },
      "source": [
        "A = np.array([\n",
        "    [51, 24],\n",
        "    [49, -12],\n",
        "    [61, 31]\n",
        "])\n",
        "B = np.array([\n",
        "    [10,12],\n",
        "    [35,31],\n",
        "    [-31,-72]\n",
        "])\n",
        "T = np.array([\n",
        "    [20,16,11],\n",
        "    [81,41,22]\n",
        "])\n",
        "print(A.shape)\n",
        "print(B.shape)\n",
        "print(T.shape)"
      ],
      "execution_count": 29,
      "outputs": [
        {
          "output_type": "stream",
          "name": "stdout",
          "text": [
            "(3, 2)\n",
            "(3, 2)\n",
            "(2, 3)\n"
          ]
        }
      ]
    },
    {
      "cell_type": "code",
      "metadata": {
        "colab": {
          "base_uri": "https://localhost:8080/"
        },
        "id": "v5A58bku5qAg",
        "outputId": "27cadbcd-2b3f-400f-9079-a17d9af0c37e"
      },
      "source": [
        "A @ T"
      ],
      "execution_count": 30,
      "outputs": [
        {
          "output_type": "execute_result",
          "data": {
            "text/plain": [
              "array([[2964, 1800, 1089],\n",
              "       [   8,  292,  275],\n",
              "       [3731, 2247, 1353]])"
            ]
          },
          "metadata": {},
          "execution_count": 30
        }
      ]
    },
    {
      "cell_type": "code",
      "metadata": {
        "id": "XpFBfYcr5qAg",
        "outputId": "f8f17fa0-9885-4ed7-b352-f69e5d3e44df",
        "colab": {
          "base_uri": "https://localhost:8080/"
        }
      },
      "source": [
        "B @ T"
      ],
      "execution_count": 31,
      "outputs": [
        {
          "output_type": "execute_result",
          "data": {
            "text/plain": [
              "array([[ 1172,   652,   374],\n",
              "       [ 3211,  1831,  1067],\n",
              "       [-6452, -3448, -1925]])"
            ]
          },
          "metadata": {},
          "execution_count": 31
        }
      ]
    },
    {
      "cell_type": "markdown",
      "metadata": {
        "id": "xrKDcZQu5qAg"
      },
      "source": [
        "If you would notice the shape of the dot product changed and its shape is not the same as any of the matrices we used. The shape of a dot product is actually derived from the shapes of the matrices used. So recall matrix $A$ with a shape of $(a,b)$ and matrix $B$ with a shape of $(b,c)$, $A \\cdot B$ should have a shape $(a,c)$."
      ]
    },
    {
      "cell_type": "code",
      "metadata": {
        "colab": {
          "base_uri": "https://localhost:8080/"
        },
        "id": "GV5OX8Yq5qAg",
        "outputId": "3c04425b-5ec9-4c08-bd15-1affb8feae2b"
      },
      "source": [
        "A @ B.T"
      ],
      "execution_count": 32,
      "outputs": [
        {
          "output_type": "execute_result",
          "data": {
            "text/plain": [
              "array([[  798,  2529, -3309],\n",
              "       [  346,  1343,  -655],\n",
              "       [  982,  3096, -4123]])"
            ]
          },
          "metadata": {},
          "execution_count": 32
        }
      ]
    },
    {
      "cell_type": "code",
      "metadata": {
        "colab": {
          "base_uri": "https://localhost:8080/"
        },
        "id": "3lB2SJC45qAi",
        "outputId": "b389c873-3dc8-4276-fa0f-37b1b5cb40f4"
      },
      "source": [
        "X = np.array([\n",
        "    [1,2,3,0]\n",
        "])\n",
        "Y = np.array([\n",
        "    [1,0,4,-1]\n",
        "])\n",
        "print(X.shape)\n",
        "print(Y.shape)"
      ],
      "execution_count": 33,
      "outputs": [
        {
          "output_type": "stream",
          "name": "stdout",
          "text": [
            "(1, 4)\n",
            "(1, 4)\n"
          ]
        }
      ]
    },
    {
      "cell_type": "code",
      "metadata": {
        "colab": {
          "base_uri": "https://localhost:8080/"
        },
        "id": "6wmNHDiG5qAi",
        "outputId": "3c89950d-b396-49ee-ab03-e7979f9520f3"
      },
      "source": [
        "Y.T @ X"
      ],
      "execution_count": 34,
      "outputs": [
        {
          "output_type": "execute_result",
          "data": {
            "text/plain": [
              "array([[ 1,  2,  3,  0],\n",
              "       [ 0,  0,  0,  0],\n",
              "       [ 4,  8, 12,  0],\n",
              "       [-1, -2, -3,  0]])"
            ]
          },
          "metadata": {},
          "execution_count": 34
        }
      ]
    },
    {
      "cell_type": "markdown",
      "metadata": {
        "id": "eeaqcqWN5qAi"
      },
      "source": [
        "And youcan see that when you try to multiply A and B, it returns `ValueError` pertaining to matrix shape mismatch."
      ]
    },
    {
      "cell_type": "markdown",
      "metadata": {
        "id": "4LuGMTDV5qAi"
      },
      "source": [
        "### Rule 2: Dot Product has special properties\n",
        "\n",
        "Dot products are prevalent in matrix algebra, this implies that it has several unique properties and it should be considered when formulation solutions:\n",
        " 1. $A \\cdot B \\neq B \\cdot A$\n",
        " 2. $A \\cdot (B \\cdot C) = (A \\cdot B) \\cdot C$\n",
        " 3. $A\\cdot(B+C) = A\\cdot B + A\\cdot C$\n",
        " 4. $(B+C)\\cdot A = B\\cdot A + C\\cdot A$\n",
        " 5. $A\\cdot I = A$\n",
        " 6. $A\\cdot \\emptyset = \\emptyset$ "
      ]
    },
    {
      "cell_type": "markdown",
      "metadata": {
        "id": "1Q88K3zL5qAi"
      },
      "source": [
        "I'll be doing just one of the properties and I'll leave the rest to test your skills!"
      ]
    },
    {
      "cell_type": "code",
      "metadata": {
        "id": "NIuJS5DD5qAj"
      },
      "source": [
        "A = np.array([\n",
        "    [32,12,21],\n",
        "    [43,15,12],\n",
        "    [91,11,50]\n",
        "])\n",
        "B = np.array([\n",
        "    [41,41,16],\n",
        "    [94,51,19],\n",
        "    [61,34,28]\n",
        "])\n",
        "C = np.array([\n",
        "    [19,71,50],\n",
        "    [70,51,11],\n",
        "    [11,20,71]\n",
        "])"
      ],
      "execution_count": 35,
      "outputs": []
    },
    {
      "cell_type": "code",
      "metadata": {
        "colab": {
          "base_uri": "https://localhost:8080/"
        },
        "id": "HUwRJACI5qAj",
        "outputId": "590b7ce5-a41d-4933-fba6-fba3db6c1e53"
      },
      "source": [
        "A.dot(np.zeros(A.shape))"
      ],
      "execution_count": 36,
      "outputs": [
        {
          "output_type": "execute_result",
          "data": {
            "text/plain": [
              "array([[0., 0., 0.],\n",
              "       [0., 0., 0.],\n",
              "       [0., 0., 0.]])"
            ]
          },
          "metadata": {},
          "execution_count": 36
        }
      ]
    },
    {
      "cell_type": "code",
      "metadata": {
        "colab": {
          "base_uri": "https://localhost:8080/"
        },
        "id": "UhgjprXt5qAj",
        "outputId": "2f78f1d3-f3de-40bd-c535-9602502f9404"
      },
      "source": [
        "z_mat = np.zeros(A.shape)\n",
        "z_mat"
      ],
      "execution_count": 37,
      "outputs": [
        {
          "output_type": "execute_result",
          "data": {
            "text/plain": [
              "array([[0., 0., 0.],\n",
              "       [0., 0., 0.],\n",
              "       [0., 0., 0.]])"
            ]
          },
          "metadata": {},
          "execution_count": 37
        }
      ]
    },
    {
      "cell_type": "code",
      "metadata": {
        "colab": {
          "base_uri": "https://localhost:8080/"
        },
        "id": "Y88CuKNy5qAj",
        "outputId": "739e774d-6cc7-4d70-9941-4bdd9ceb980b"
      },
      "source": [
        "a_dot_z = A.dot(np.zeros(A.shape))\n",
        "a_dot_z"
      ],
      "execution_count": 38,
      "outputs": [
        {
          "output_type": "execute_result",
          "data": {
            "text/plain": [
              "array([[0., 0., 0.],\n",
              "       [0., 0., 0.],\n",
              "       [0., 0., 0.]])"
            ]
          },
          "metadata": {},
          "execution_count": 38
        }
      ]
    },
    {
      "cell_type": "code",
      "metadata": {
        "colab": {
          "base_uri": "https://localhost:8080/"
        },
        "id": "7gLbl0xi5qAj",
        "outputId": "9a4fa8e1-3e49-4764-e8ab-df5e1b8cd996"
      },
      "source": [
        "np.array_equal(a_dot_z,z_mat)"
      ],
      "execution_count": 39,
      "outputs": [
        {
          "output_type": "execute_result",
          "data": {
            "text/plain": [
              "True"
            ]
          },
          "metadata": {},
          "execution_count": 39
        }
      ]
    },
    {
      "cell_type": "code",
      "metadata": {
        "colab": {
          "base_uri": "https://localhost:8080/"
        },
        "id": "O-BVE7BT5qAj",
        "outputId": "da4b82ad-b39b-4e24-d486-560f4d365da0"
      },
      "source": [
        "null_mat = np.empty(A.shape, dtype=float)\n",
        "null = np.array(null_mat,dtype=float)\n",
        "print(null)\n",
        "np.allclose(a_dot_z,null)"
      ],
      "execution_count": 40,
      "outputs": [
        {
          "output_type": "stream",
          "name": "stdout",
          "text": [
            "[[0. 0. 0.]\n",
            " [0. 0. 0.]\n",
            " [0. 0. 0.]]\n"
          ]
        },
        {
          "output_type": "execute_result",
          "data": {
            "text/plain": [
              "True"
            ]
          },
          "metadata": {},
          "execution_count": 40
        }
      ]
    },
    {
      "cell_type": "markdown",
      "metadata": {
        "id": "meSNX76X5qAk"
      },
      "source": [
        "## Determinant"
      ]
    },
    {
      "cell_type": "markdown",
      "metadata": {
        "id": "usidzlzW5qAk"
      },
      "source": [
        "#### In linear algebra, the determinant is a very significant value. The determinant of a square matrix is a specific number that may be derived from a square matrix and is denoted by the symbol. A determinant is a scalar value derived from a square matrix. The determinant is a fundamental and important value used in matrix algebra. Although it will not be evident in this laboratory on how it can be used practically, but it will be reatly used in future lessons.\n",
        "\n",
        "The determinant of some matrix $A$ is denoted as $det(A)$ or $|A|$. So let's say $A$ is represented as:\n",
        "$$A = \\begin{bmatrix}a_{(0,0)}&a_{(0,1)}\\\\a_{(1,0)}&a_{(1,1)}\\end{bmatrix}$$\n",
        "We can compute for the determinant as:\n",
        "$$|A| = a_{(0,0)}*a_{(1,1)} - a_{(1,0)}*a_{(0,1)}$$\n",
        "So if we have $A$ as:\n",
        "$$A = \\begin{bmatrix}1&4\\\\0&3\\end{bmatrix}, |A| = 3$$\n",
        "\n",
        "But you might wonder how about square matrices beyond the shape $(2,2)$? We can approach this problem by using several methods such as co-factor expansion and the minors method. This can be taught in the lecture of the laboratory but we can achieve the strenuous computation of high-dimensional matrices programmatically using Python. We can achieve this by using `np.linalg.det()`."
      ]
    },
    {
      "cell_type": "code",
      "metadata": {
        "id": "UXIlruLY5qAk",
        "outputId": "0cd6512b-5b4f-4e93-9bc7-8eb060ac29ad",
        "colab": {
          "base_uri": "https://localhost:8080/"
        }
      },
      "source": [
        "A = np.array([\n",
        "    [4,2],\n",
        "    [9,5]\n",
        "])\n",
        "np.linalg.det(A)"
      ],
      "execution_count": 42,
      "outputs": [
        {
          "output_type": "execute_result",
          "data": {
            "text/plain": [
              "2.000000000000001"
            ]
          },
          "metadata": {},
          "execution_count": 42
        }
      ]
    },
    {
      "cell_type": "code",
      "metadata": {
        "id": "-H6sOqcu5qAk",
        "outputId": "176d5b11-2184-4a2e-d080-d36bd733075e",
        "colab": {
          "base_uri": "https://localhost:8080/"
        }
      },
      "source": [
        "## Now other mathematics classes would require you to solve this by hand, \n",
        "## and that is great for practicing your memorization and coordination skills \n",
        "## but in this class we aim for simplicity and speed so we'll use programming\n",
        "## but it's completely fine if you want to try to solve this one by hand.\n",
        "B = np.array([\n",
        "    [2,4,9,3],\n",
        "    [0,7,1,5],\n",
        "    [3,2,8,1],\n",
        "    [9,0,6,8]\n",
        "])\n",
        "np.linalg.det(B)"
      ],
      "execution_count": 45,
      "outputs": [
        {
          "output_type": "execute_result",
          "data": {
            "text/plain": [
              "-795.0000000000001"
            ]
          },
          "metadata": {},
          "execution_count": 45
        }
      ]
    },
    {
      "cell_type": "markdown",
      "metadata": {
        "id": "YgnCzR5i5qAk"
      },
      "source": [
        "## Inverse"
      ]
    },
    {
      "cell_type": "markdown",
      "metadata": {
        "id": "NyZt93mR5qAk"
      },
      "source": [
        "The inverse of a matrix is simply the reciprocal of the matrix, as we do in standard arithmetic when dealing with a single number. This reciprocal is used to solve equations and determine the values of unknown variables. The inverse of a matrix is another fundamental operation in matrix algebra. Determining the inverse of a matrix let us determine if its solvability and its characteristic as a system of linear equation — we'll expand on this in the nect module. Another use of the inverse matrix is solving the problem of divisibility between matrices. Although element-wise division exists but dividing the entire concept of matrices does not exists. Inverse matrices provides a related operation that could have the same concept of \"dividing\" matrices.\n",
        "\n",
        "Now to determine the inverse of a matrix we need to perform several steps. So let's say we have a matrix $M$:\n",
        "$$M = \\begin{bmatrix}1&7\\\\-3&5\\end{bmatrix}$$\n",
        "First, we need to get the determinant of $M$.\n",
        "$$|M| = (1)(5)-(-3)(7) = 26$$\n",
        "Next, we need to reform the matrix into the inverse form:\n",
        "$$M^{-1} = \\frac{1}{|M|} \\begin{bmatrix} m_{(1,1)} & -m_{(0,1)} \\\\ -m_{(1,0)} & m_{(0,0)}\\end{bmatrix}$$\n",
        "So that will be:\n",
        "$$M^{-1} = \\frac{1}{26} \\begin{bmatrix} 5 & -7 \\\\ 3 & 1\\end{bmatrix} = \\begin{bmatrix} \\frac{5}{26} & \\frac{-7}{26} \\\\ \\frac{3}{26} & \\frac{1}{26}\\end{bmatrix}$$\n",
        "For higher-dimension matrices you might need to use co-factors, minors, adjugates, and other reduction techinques. To solve this programmatially we can use `np.linalg.inv()`."
      ]
    },
    {
      "cell_type": "code",
      "metadata": {
        "id": "6o_tzKcx5qAl",
        "outputId": "29dbccc8-14f4-4be1-b26c-50fcf262da08",
        "colab": {
          "base_uri": "https://localhost:8080/"
        }
      },
      "source": [
        "M = np.array([\n",
        "    [1,7],\n",
        "    [-3, 5]\n",
        "])\n",
        "\n",
        "np.array(M @ np.linalg.inv(M), dtype=int)"
      ],
      "execution_count": 46,
      "outputs": [
        {
          "output_type": "execute_result",
          "data": {
            "text/plain": [
              "array([[1, 0],\n",
              "       [0, 1]])"
            ]
          },
          "metadata": {},
          "execution_count": 46
        }
      ]
    },
    {
      "cell_type": "code",
      "metadata": {
        "id": "67IPZoJM5qAl",
        "outputId": "cf05f310-afe9-4ed1-84aa-3cb52fb042e1",
        "colab": {
          "base_uri": "https://localhost:8080/"
        }
      },
      "source": [
        "## And now let's test your skills in solving a matrix with high dimensions:\n",
        "N = np.array([\n",
        "    [18,5,23,1,0,33,5],\n",
        "    [0,45,0,11,2,4,2],\n",
        "    [5,9,20,0,0,0,3],\n",
        "    [1,6,4,4,8,43,1],\n",
        "    [8,6,8,7,1,6,1],\n",
        "    [-5,15,2,0,0,6,-30],\n",
        "    [-2,-5,1,2,1,20,12],\n",
        "])\n",
        "N_inv = np.linalg.inv(N)\n",
        "np.array(N @ N_inv,dtype=int)"
      ],
      "execution_count": 47,
      "outputs": [
        {
          "output_type": "execute_result",
          "data": {
            "text/plain": [
              "array([[0, 0, 0, 0, 0, 0, 0],\n",
              "       [0, 0, 0, 0, 0, 0, 0],\n",
              "       [0, 0, 1, 0, 0, 0, 0],\n",
              "       [0, 0, 0, 1, 0, 0, 0],\n",
              "       [0, 0, 0, 0, 0, 0, 0],\n",
              "       [0, 0, 0, 0, 0, 0, 0],\n",
              "       [0, 0, 0, 0, 0, 0, 0]])"
            ]
          },
          "metadata": {},
          "execution_count": 47
        }
      ]
    },
    {
      "cell_type": "markdown",
      "metadata": {
        "id": "v3tMlBTN5qAl"
      },
      "source": [
        "To validate the wether if the matric that you have solved is really the inverse, we follow this dot product property for a matrix $M$:\n",
        "$$M\\cdot M^{-1} = I$$"
      ]
    },
    {
      "cell_type": "code",
      "metadata": {
        "id": "UPMGu4cQ5qAm",
        "colab": {
          "base_uri": "https://localhost:8080/"
        },
        "outputId": "9ad142d7-b0f8-4dfa-ecc5-cdd4317e9076"
      },
      "source": [
        "squad = np.array([\n",
        "    [1.0, 1.0, 0.5],\n",
        "    [0.7, 0.7, 0.9],\n",
        "    [0.3, 0.3, 1.0]\n",
        "])\n",
        "weights = np.array([\n",
        "    [0.2, 0.2, 0.6]\n",
        "])\n",
        "p_grade = squad @ weights.T\n",
        "p_grade\n"
      ],
      "execution_count": 48,
      "outputs": [
        {
          "output_type": "execute_result",
          "data": {
            "text/plain": [
              "array([[0.7 ],\n",
              "       [0.82],\n",
              "       [0.72]])"
            ]
          },
          "metadata": {},
          "execution_count": 48
        }
      ]
    },
    {
      "cell_type": "markdown",
      "metadata": {
        "id": "hlP1zGsC5qAm"
      },
      "source": [
        "## Activity"
      ]
    },
    {
      "cell_type": "markdown",
      "metadata": {
        "id": "HpB1u3t05qAm"
      },
      "source": [
        "### Task 1"
      ]
    },
    {
      "cell_type": "markdown",
      "metadata": {
        "id": "RHhAZ_IM5qAm"
      },
      "source": [
        "Prove and implement the remaining 6 matrix multiplication properties. You may create your own matrices in which their shapes should not be lower than $(3,3)$.\n",
        "In your methodology, create individual flowcharts for each property and discuss the property you would then present your proofs or validity of your implementation in the results section by comparing your result to present functions from NumPy."
      ]
    },
    {
      "cell_type": "code",
      "source": [
        "np.array([])"
      ],
      "metadata": {
        "id": "99BUeqGgnLof",
        "colab": {
          "base_uri": "https://localhost:8080/"
        },
        "outputId": "5eeb9b5b-d2f4-48b5-ab48-ed15e8df8384"
      },
      "execution_count": 51,
      "outputs": [
        {
          "output_type": "execute_result",
          "data": {
            "text/plain": [
              "array([], dtype=float64)"
            ]
          },
          "metadata": {},
          "execution_count": 51
        }
      ]
    },
    {
      "cell_type": "markdown",
      "source": [
        "1. $A \\cdot B \\neq B \\cdot A$"
      ],
      "metadata": {
        "id": "uPI4FDi-nHjX"
      }
    },
    {
      "cell_type": "code",
      "metadata": {
        "id": "RLPgIfWf5qAn",
        "colab": {
          "base_uri": "https://localhost:8080/"
        },
        "outputId": "beb8917e-b85f-499f-96c3-348b71e10d41"
      },
      "source": [
        "A = np.array([\n",
        "        [15,47,13], \n",
        "        [44 ,51,62], \n",
        "        [71 ,28,19]\n",
        "        ])\n",
        "B = np.array([\n",
        "        [57,98,19], \n",
        "        [48,46,14],\n",
        "        [76,38,19]\n",
        "        ])\n",
        "  \n",
        "result = [[0 for x in range(3)] for y in range(3)]  \n",
        "  \n",
        " \n",
        "for i in range(len(B)): \n",
        "    for j in range(len(A[0])): \n",
        "        for k in range(len(A)): \n",
        "  \n",
        "\n",
        "            result[i][j] += A[i][k] * B[k][j] \n",
        "\n",
        "print('A.B IS')\n",
        "print(result)\n",
        "\n",
        "A = np.array([\n",
        "        [15,47,13], \n",
        "        [44 ,51,62], \n",
        "        [71 ,28,19]\n",
        "        ])\n",
        "B = np.array([\n",
        "        [57,98,19], \n",
        "        [48,46,14],\n",
        "        [76,38,19]\n",
        "        ])\n",
        "  \n",
        "result = [[0 for x in range(3)] for y in range(3)]  \n",
        "  \n",
        " \n",
        "for i in range(len(B)): \n",
        "    for j in range(len(A[0])): \n",
        "        for k in range(len(A)): \n",
        "  \n",
        "\n",
        "            result[i][j] += B[i][k] * A[k][j] \n",
        "  \n",
        "print('B.A IS')\n",
        "print(result)\n",
        "print('Therefore A.B is not equalt to B.A')\n"
      ],
      "execution_count": 57,
      "outputs": [
        {
          "output_type": "stream",
          "name": "stdout",
          "text": [
            "A.B IS\n",
            "[[4099, 4126, 1190], [9668, 9014, 2728], [6835, 8968, 2102]]\n",
            "B.A IS\n",
            "[[539, 611, 690], [607, 374, 189], [548, 628, 714]]\n",
            "Therefore A.B is not equalt to B.A\n"
          ]
        }
      ]
    },
    {
      "cell_type": "markdown",
      "source": [
        "2. $A \\cdot (B \\cdot C) = (A \\cdot B) \\cdot C$"
      ],
      "metadata": {
        "id": "zacxwUC7N5rG"
      }
    },
    {
      "cell_type": "code",
      "metadata": {
        "colab": {
          "base_uri": "https://localhost:8080/"
        },
        "outputId": "53b24de3-c147-4436-dcd9-2202bdf9caaf",
        "id": "UOAGjGLGQbER"
      },
      "source": [
        "A = np.array ([\n",
        "      [31, 12, 63],\n",
        "      [46, 43, 16],\n",
        "      [17, 58, 29]\n",
        "      ])\n",
        "B = np.array ([\n",
        "      [15, 12, 35],\n",
        "      [44, 52, 26],\n",
        "      [74, 18, 91]\n",
        "      ])\n",
        "C = np.array ([\n",
        "      [1, 22, 32],\n",
        "      [42, 15, 56],\n",
        "      [71, 35, 29]\n",
        "      ])\n",
        "\n",
        "\n",
        "result = np.dot(B,C)\n",
        "result = np.dot(A,result);\n",
        "print(\"A.(B.C) is\")\n",
        "for r in result:\n",
        " print(r)\n",
        "result = np.dot(A,B)\n",
        "result = np.dot(result,C);\n",
        "print(\"(A.B).C) is\")\n",
        "for r in result:\n",
        " print(r)\n"
      ],
      "execution_count": 59,
      "outputs": [
        {
          "output_type": "stream",
          "name": "stdout",
          "text": [
            "A.(B.C) is\n",
            "[601345 405910 507010]\n",
            "[430022 275432 414104]\n",
            "[498799 331066 505566]\n",
            "(A.B).C) is\n",
            "[601345 405910 507010]\n",
            "[430022 275432 414104]\n",
            "[498799 331066 505566]\n"
          ]
        }
      ]
    },
    {
      "cell_type": "markdown",
      "source": [
        " 3. $A\\cdot(B+C) = A\\cdot B + A\\cdot C$"
      ],
      "metadata": {
        "id": "BHh4ujaEN5v9"
      }
    },
    {
      "cell_type": "code",
      "metadata": {
        "id": "q1MRaCin5qAn",
        "colab": {
          "base_uri": "https://localhost:8080/"
        },
        "outputId": "f54246cc-1330-4aee-a190-ba7dba9470ef"
      },
      "source": [
        "A = np.array ([\n",
        "      [21, 22, 43],\n",
        "      [74, 15, 63],\n",
        "      [17, 81, 59]\n",
        "      ])\n",
        "B = np.array ([\n",
        "      [55, 44, 93],\n",
        "      [4, 79, 26],\n",
        "      [74, 83, 91]\n",
        "      ])\n",
        "C = np.array ([\n",
        "      [19, 32, 44],\n",
        "      [41, 53, 66],\n",
        "      [76, 28, 49]\n",
        "      ])\n",
        "\n",
        "result = [[B[i][j] + C[i][j]  for j in range\n",
        "(len(B[0]))] for i in range(len(B))]\n",
        "result = np.dot(A,result)\n",
        "print(\"A.(B+C) is\")\n",
        "for r in result:\n",
        " print(r)\n",
        "result = np.dot(A,B)\n",
        "result1 = np.dot(A,C)\n",
        "result = [[result[i][j] + result1[i][j]  for j in range\n",
        "(len(result[0]))] for i in range(len(result))]\n",
        "print(\"A.B+A.C) is\")\n",
        "for r in result:\n",
        " print(r)\n"
      ],
      "execution_count": 60,
      "outputs": [
        {
          "output_type": "stream",
          "name": "stdout",
          "text": [
            "A.(B+C) is\n",
            "[ 8994  9273 10921]\n",
            "[15601 14597 20338]\n",
            "[13753 18533 18041]\n",
            "A.B+A.C) is\n",
            "[8994, 9273, 10921]\n",
            "[15601, 14597, 20338]\n",
            "[13753, 18533, 18041]\n"
          ]
        }
      ]
    },
    {
      "cell_type": "markdown",
      "source": [
        "4. $(B+C)\\cdot A = B\\cdot A + C\\cdot A$"
      ],
      "metadata": {
        "id": "vsOXbitKOF9k"
      }
    },
    {
      "cell_type": "code",
      "source": [
        "A = np.array ([\n",
        "      [81, 42, 33],\n",
        "      [42, 52, 64],\n",
        "      [17, 38, 91]\n",
        "      ])\n",
        "B = np.array ([\n",
        "      [12, 42, 23],\n",
        "      [41, 65, 56],\n",
        "      [47, 18, 91]\n",
        "      ])\n",
        "C = np.array ([\n",
        "      [14, 26, 13],\n",
        "      [41, 25, 36],\n",
        "      [75, 48, 59]\n",
        "      ])\n",
        "\n",
        "result = [[B[i][j] + C[i][j]  for j in range\n",
        "(len(B[0]))] for i in range(len(B))]\n",
        "result = np.dot(result,A)\n",
        "print(\"A.(B+C) is\")\n",
        "for r in result:\n",
        " print(r)\n",
        "result = np.dot(B,A)\n",
        "result1 = np.dot(C,A)\n",
        "result = [[result[i][j] + result1[i][j]  for j in range\n",
        "(len(result[0]))] for i in range(len(result))]\n",
        "print(\"(A.B)+(A.C) is\")\n",
        "for r in result:\n",
        " print(r)"
      ],
      "metadata": {
        "colab": {
          "base_uri": "https://localhost:8080/"
        },
        "id": "WiwoQRohOLMQ",
        "outputId": "81e59768-9f6f-4867-92ad-a23900f17ce3"
      },
      "execution_count": 61,
      "outputs": [
        {
          "output_type": "stream",
          "name": "stdout",
          "text": [
            "A.(B+C) is\n",
            "[5574 5996 8486]\n",
            "[11986 11620 16838]\n",
            "[15204 14256 21900]\n",
            "(A.B)+(A.C) is\n",
            "[5574, 5996, 8486]\n",
            "[11986, 11620, 16838]\n",
            "[15204, 14256, 21900]\n"
          ]
        }
      ]
    },
    {
      "cell_type": "markdown",
      "source": [
        " 5. $A\\cdot I = A$"
      ],
      "metadata": {
        "id": "6jySdzH5OL50"
      }
    },
    {
      "cell_type": "code",
      "source": [
        "A = np.array([\n",
        "        [72,17,23], \n",
        "        [44 ,54,46], \n",
        "        [72 ,8,69]\n",
        "        ])\n",
        "B = np.array([\n",
        "        [1,0,0], \n",
        "        [0,1,0],\n",
        "        [0,0,1]\n",
        "        ])\n",
        "  \n",
        "result = [[0 for x in range(3)] for y in range(3)]  \n",
        "  \n",
        " \n",
        "for i in range(len(B)): \n",
        "    for j in range(len(A[0])): \n",
        "        for k in range(len(A)): \n",
        "  \n",
        "\n",
        "            result[i][j] += B[i][k] * A[k][j] \n",
        "  \n",
        "print (result)\n"
      ],
      "metadata": {
        "colab": {
          "base_uri": "https://localhost:8080/"
        },
        "id": "PY5e7x4GOPkF",
        "outputId": "70188c77-d56a-4fec-983e-25f5ca618945"
      },
      "execution_count": 70,
      "outputs": [
        {
          "output_type": "stream",
          "name": "stdout",
          "text": [
            "[[72, 17, 23], [44, 54, 46], [72, 8, 69]]\n"
          ]
        }
      ]
    },
    {
      "cell_type": "markdown",
      "source": [
        " 6. $A\\cdot \\emptyset = \\emptyset$ "
      ],
      "metadata": {
        "id": "y4OUAmxxOS0y"
      }
    },
    {
      "cell_type": "code",
      "source": [
        "A = np.array([\n",
        "        [43, 75, 33], \n",
        "        [45, 55, 66], \n",
        "        [17, 68, 89]\n",
        "        ])\n",
        "B = np.array([\n",
        "        [1,0,0], \n",
        "        [0,1,0],\n",
        "        [0,0,1]\n",
        "        ])\n",
        "  \n",
        "result = [[0 for x in range(3)] for y in range(3)]  \n",
        "  \n",
        " \n",
        "for i in range(len(B)): \n",
        "    for j in range(len(A[0])): \n",
        "        for k in range(len(A)): \n",
        "  \n",
        "\n",
        "            result[i][j] += B[i][k] * A[k][j] \n",
        "  \n",
        "print(result)"
      ],
      "metadata": {
        "colab": {
          "base_uri": "https://localhost:8080/"
        },
        "id": "Dz-SyqaTOWFD",
        "outputId": "0b45fc01-a3a1-4b41-e9cd-edeaeccf1f79"
      },
      "execution_count": 77,
      "outputs": [
        {
          "output_type": "stream",
          "name": "stdout",
          "text": [
            "[[43, 75, 33], [45, 55, 66], [17, 68, 89]]\n"
          ]
        }
      ]
    },
    {
      "cell_type": "markdown",
      "metadata": {
        "id": "HQjpp42R5qAn"
      },
      "source": [
        "## Conclusion"
      ]
    },
    {
      "cell_type": "markdown",
      "metadata": {
        "id": "Tx0zyjMm5qAo"
      },
      "source": [
        "Python is a well-known and popular programming language that is in great demand throughout the globe. It is applicable to a variety of fields, including data science, big data, programming, and application development. The students were able to practice and comprehend the concepts, syntax, and techniques of Python by completing this laboratory report. It entails familiarity with matrices and their relationship to linear equations, the ability to perform fundamental matrix operations, and the ability to program/translate matrix equations and operations. Learning the fundamentals undoubtedly aided in the acquisition of a load of new and useful characteristics. It will assist you in thinking more logically. You will be able to grasp complex ideas more easily and solve problems more effectively as a result of this course. \n",
        "\n",
        "At the end of the module, the students became capable of applying the knowledge about the language by involving themselves in doing several practices such as creating a corresponding matrix representing a linear combination, encoding and describing it as a matrix, expressing it as a linear combination, and Matrix Operations which includes Transposition, Dot Product/Inner Product and it’s rules, Determinant, and Inverse.  On the other hand, a task was performed. The program begins by being familiar with transposition, dot product, determinant and inverse. This familiarization aids us in putting our newfound knowledge into practice by allowing us to construct matrices that deal with multiplication properties. Moreover, a flow chart was created in relation to the tasks that discussed the methods and functions used. Furthermore, learning the fundamentals of programming helps develop mental abilities that are extremely useful in a variety of other areas of life. This engagement could assist people to make key patient care decisions and help us make huge changes. We'd look at the matrices first, then learn about each quality outcome and how competencies, abilities, and other aspects affect it. This setting would assist users to make vital patient care decisions. These matrices would also be useful for health care training, allowing us to broaden the scope of research and benefit the health care system. The ability to deconstruct a large problem into a series of increasingly small tasks, to abstract a solution in order to make it applicable to a larger set of problems, and even to develop fluency in logical analysis through debugging are all developmental skills that aid in decision making and critical thinking, which are necessary for solving healthcare problems."
      ]
    }
  ]
}