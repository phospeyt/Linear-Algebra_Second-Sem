{
  "nbformat": 4,
  "nbformat_minor": 0,
  "metadata": {
    "colab": {
      "name": "Activity 1- Python Fundamentals",
      "provenance": [],
      "collapsed_sections": [],
      "authorship_tag": "ABX9TyPth40//36M6eBh/j52jWis",
      "include_colab_link": true
    },
    "kernelspec": {
      "name": "python3",
      "display_name": "Python 3"
    },
    "language_info": {
      "name": "python"
    }
  },
  "cells": [
    {
      "cell_type": "markdown",
      "metadata": {
        "id": "view-in-github",
        "colab_type": "text"
      },
      "source": [
        "<a href=\"https://colab.research.google.com/github/phospeyt/Linear-Algebra_Second-Sem/blob/main/Activity_1_Python_Fundamentals.ipynb\" target=\"_parent\"><img src=\"https://colab.research.google.com/assets/colab-badge.svg\" alt=\"Open In Colab\"/></a>"
      ]
    },
    {
      "cell_type": "markdown",
      "source": [
        "# Welcome to Python Fundamentals\n",
        "In this module, we are going to establish or review our skills in Python programming. In this notebook we are going to cover:\n",
        "* Variables and Data Types \n",
        "* Operations\n",
        "* Input and Output Operations\n",
        "* Logic Control\n",
        "* Iterables\n",
        "* Functions"
      ],
      "metadata": {
        "id": "jzkg2gJcsb3p"
      }
    },
    {
      "cell_type": "markdown",
      "source": [
        "# **Variable and Data Types** \n",
        "\n",
        "##### Variables and data types in Python are the values that change, as the name implies. A variable in a programming language is a memory location where you can store a value.\n",
        "\n",
        "##### Variables are used to store data or values in the computer's memory. Large amounts of data are frequently handled in programming. As a result, it is critical to be able to efficiently separate and structure the data. A variable is a data type variable with a name and a value.\n",
        "\n",
        "###### Data types are what determine what type of data a variable can contain, and the data type is determined in the variable's declaration. It is critical to declare the correct data type so that you do not inadvertently mix different data types. Then there's the possibility that the program won't work properly or will even crash."
      ],
      "metadata": {
        "id": "QkFixMXUt-F1"
      }
    },
    {
      "cell_type": "code",
      "source": [
        "x = 1\n",
        "a,b = 0, -1\n",
        "b "
      ],
      "metadata": {
        "colab": {
          "base_uri": "https://localhost:8080/"
        },
        "id": "4NatU7kRuKHO",
        "outputId": "0944fe76-7b9a-4d29-aa01-2b10dde161d2"
      },
      "execution_count": null,
      "outputs": [
        {
          "output_type": "execute_result",
          "data": {
            "text/plain": [
              "-1"
            ]
          },
          "metadata": {},
          "execution_count": 1
        }
      ]
    },
    {
      "cell_type": "code",
      "source": [
        "x=2 \n",
        "x"
      ],
      "metadata": {
        "colab": {
          "base_uri": "https://localhost:8080/"
        },
        "id": "eIRPluMBugVW",
        "outputId": "10967716-3469-437d-dd83-5b1cdd261a67"
      },
      "execution_count": null,
      "outputs": [
        {
          "output_type": "execute_result",
          "data": {
            "text/plain": [
              "2"
            ]
          },
          "metadata": {},
          "execution_count": 2
        }
      ]
    },
    {
      "cell_type": "code",
      "source": [
        "type(x)\n"
      ],
      "metadata": {
        "colab": {
          "base_uri": "https://localhost:8080/"
        },
        "id": "m6fHTw1HvC5T",
        "outputId": "345d6b6d-2093-425d-b9db-81e83e7e24d5"
      },
      "execution_count": null,
      "outputs": [
        {
          "output_type": "execute_result",
          "data": {
            "text/plain": [
              "int"
            ]
          },
          "metadata": {},
          "execution_count": 3
        }
      ]
    },
    {
      "cell_type": "code",
      "source": [
        "y = 1.0\n",
        "type(y)"
      ],
      "metadata": {
        "colab": {
          "base_uri": "https://localhost:8080/"
        },
        "id": "LSMUNXhxvY69",
        "outputId": "d3c06efa-34ad-4ea3-babf-186f3531b6d2"
      },
      "execution_count": null,
      "outputs": [
        {
          "output_type": "execute_result",
          "data": {
            "text/plain": [
              "float"
            ]
          },
          "metadata": {},
          "execution_count": 4
        }
      ]
    },
    {
      "cell_type": "code",
      "source": [
        "x= float(x)\n",
        "type (x)"
      ],
      "metadata": {
        "colab": {
          "base_uri": "https://localhost:8080/"
        },
        "id": "AI_xLHa5vY_V",
        "outputId": "2af6a33b-e10b-4d27-b45c-5aca84c0e82f"
      },
      "execution_count": null,
      "outputs": [
        {
          "output_type": "execute_result",
          "data": {
            "text/plain": [
              "float"
            ]
          },
          "metadata": {},
          "execution_count": 5
        }
      ]
    },
    {
      "cell_type": "code",
      "source": [
        "s,t,u = \"0\", '1', 'one'\n",
        "type(u)"
      ],
      "metadata": {
        "colab": {
          "base_uri": "https://localhost:8080/"
        },
        "id": "xI5jnZD5v7vM",
        "outputId": "16fa7a71-9bd2-44b5-f3ba-bcd5de900e49"
      },
      "execution_count": null,
      "outputs": [
        {
          "output_type": "execute_result",
          "data": {
            "text/plain": [
              "str"
            ]
          },
          "metadata": {},
          "execution_count": 7
        }
      ]
    },
    {
      "cell_type": "code",
      "source": [
        "s_int = int(s)\n",
        "type(s)"
      ],
      "metadata": {
        "colab": {
          "base_uri": "https://localhost:8080/"
        },
        "id": "9xKZVOZTxMQJ",
        "outputId": "6cdd86fd-fe69-4f30-dbf0-2626b312c255"
      },
      "execution_count": null,
      "outputs": [
        {
          "output_type": "execute_result",
          "data": {
            "text/plain": [
              "str"
            ]
          },
          "metadata": {},
          "execution_count": 11
        }
      ]
    },
    {
      "cell_type": "markdown",
      "source": [
        "# **Operations**\n",
        "\n",
        "Operators are used to perform operations on two values or variables. The output depends on the type of operator used in the operation. The constructs used to manipulate data are known as operators. They are used to elaborate on the actions that must be taken and they are primarily used to perform operations on variables and values."
      ],
      "metadata": {
        "id": "ORpzfDfCyABR"
      }
    },
    {
      "cell_type": "markdown",
      "source": [
        "### Arithmetic \n",
        "\n",
        "They are used in accordance with items that contain numbers/numeric values to perform various common mathematical operations on variables/values."
      ],
      "metadata": {
        "id": "4iMbz21wyLRy"
      }
    },
    {
      "cell_type": "code",
      "source": [
        "a,b,c,d = 2.0, -0.5, 0, -32"
      ],
      "metadata": {
        "id": "1wzeJJ_2yQXu"
      },
      "execution_count": null,
      "outputs": []
    },
    {
      "cell_type": "code",
      "source": [
        "### Addition\n",
        "S = a+b\n",
        "S"
      ],
      "metadata": {
        "colab": {
          "base_uri": "https://localhost:8080/"
        },
        "id": "8oMeI62oyZcu",
        "outputId": "c9078df5-742d-4ab7-b6c2-4bbfb447af2d"
      },
      "execution_count": null,
      "outputs": [
        {
          "output_type": "execute_result",
          "data": {
            "text/plain": [
              "1.5"
            ]
          },
          "metadata": {},
          "execution_count": 2
        }
      ]
    },
    {
      "cell_type": "code",
      "source": [
        "### Subtraction\n",
        "D= b-d\n",
        "D"
      ],
      "metadata": {
        "colab": {
          "base_uri": "https://localhost:8080/"
        },
        "id": "kUenAC-lzRRJ",
        "outputId": "a77f26db-bcbc-4205-c603-8bfabeaff9bd"
      },
      "execution_count": null,
      "outputs": [
        {
          "output_type": "execute_result",
          "data": {
            "text/plain": [
              "31.5"
            ]
          },
          "metadata": {},
          "execution_count": 3
        }
      ]
    },
    {
      "cell_type": "code",
      "source": [
        "### Multiplication\n",
        "P = a*d\n",
        "P"
      ],
      "metadata": {
        "colab": {
          "base_uri": "https://localhost:8080/"
        },
        "id": "lJQlCO9hzZab",
        "outputId": "a737124e-6b26-4f03-d9c1-d99d549174f5"
      },
      "execution_count": null,
      "outputs": [
        {
          "output_type": "execute_result",
          "data": {
            "text/plain": [
              "-64.0"
            ]
          },
          "metadata": {},
          "execution_count": 4
        }
      ]
    },
    {
      "cell_type": "code",
      "source": [
        "### Division\n",
        "Q = c/a\n",
        "Q"
      ],
      "metadata": {
        "colab": {
          "base_uri": "https://localhost:8080/"
        },
        "id": "4Ny8il6EzjKo",
        "outputId": "c404cbf2-5e1c-41af-cae2-2b182ca58a8e"
      },
      "execution_count": null,
      "outputs": [
        {
          "output_type": "execute_result",
          "data": {
            "text/plain": [
              "0.0"
            ]
          },
          "metadata": {},
          "execution_count": 5
        }
      ]
    },
    {
      "cell_type": "code",
      "source": [
        "### Floor Division\n",
        "Fq= a//b\n",
        "Fq"
      ],
      "metadata": {
        "colab": {
          "base_uri": "https://localhost:8080/"
        },
        "id": "6vbTKO9Fz1mZ",
        "outputId": "de271573-86e2-46d9-f55c-d8774cf36af3"
      },
      "execution_count": null,
      "outputs": [
        {
          "output_type": "execute_result",
          "data": {
            "text/plain": [
              "-4.0"
            ]
          },
          "metadata": {},
          "execution_count": 6
        }
      ]
    },
    {
      "cell_type": "code",
      "source": [
        "### Exponentiation\n",
        "E = a**b\n",
        "E"
      ],
      "metadata": {
        "colab": {
          "base_uri": "https://localhost:8080/"
        },
        "id": "DFLqqcaV0khl",
        "outputId": "2104b3f6-51d4-4afc-a207-498151295d50"
      },
      "execution_count": null,
      "outputs": [
        {
          "output_type": "execute_result",
          "data": {
            "text/plain": [
              "0.7071067811865476"
            ]
          },
          "metadata": {},
          "execution_count": 7
        }
      ]
    },
    {
      "cell_type": "code",
      "source": [
        "### Modulo\n",
        "mod = d%a\n",
        "mod"
      ],
      "metadata": {
        "colab": {
          "base_uri": "https://localhost:8080/"
        },
        "id": "HOetNDwy03_X",
        "outputId": "3af70536-3aa8-4b54-e1cf-2f4fa6441666"
      },
      "execution_count": null,
      "outputs": [
        {
          "output_type": "execute_result",
          "data": {
            "text/plain": [
              "0.0"
            ]
          },
          "metadata": {},
          "execution_count": 8
        }
      ]
    },
    {
      "cell_type": "markdown",
      "source": [
        "### Assignment \n",
        "\n",
        "They are used to allocate different values to the variables.\n"
      ],
      "metadata": {
        "id": "bgenXwA61g84"
      }
    },
    {
      "cell_type": "code",
      "source": [
        "G, H, J, K = 0, 100, 2, 3"
      ],
      "metadata": {
        "id": "CRwEXVdT1knB"
      },
      "execution_count": null,
      "outputs": []
    },
    {
      "cell_type": "code",
      "source": [
        "G += a\n",
        "G"
      ],
      "metadata": {
        "colab": {
          "base_uri": "https://localhost:8080/"
        },
        "id": "T7d65XyO1v6I",
        "outputId": "bf10051d-bb5c-4f5f-dae2-798c917e2c9a"
      },
      "execution_count": null,
      "outputs": [
        {
          "output_type": "execute_result",
          "data": {
            "text/plain": [
              "2.0"
            ]
          },
          "metadata": {},
          "execution_count": 10
        }
      ]
    },
    {
      "cell_type": "code",
      "source": [
        "H -= d \n",
        "H"
      ],
      "metadata": {
        "colab": {
          "base_uri": "https://localhost:8080/"
        },
        "id": "pm0TKcoJ13fi",
        "outputId": "9d18d79a-888a-4ac6-8855-ae40a24bbfcf"
      },
      "execution_count": null,
      "outputs": [
        {
          "output_type": "execute_result",
          "data": {
            "text/plain": [
              "132"
            ]
          },
          "metadata": {},
          "execution_count": 11
        }
      ]
    },
    {
      "cell_type": "code",
      "source": [
        "J *= 3\n",
        "J"
      ],
      "metadata": {
        "id": "ljU2tSZr2DRh",
        "colab": {
          "base_uri": "https://localhost:8080/"
        },
        "outputId": "134bd42f-b853-4440-fa00-2ca6c12c30d7"
      },
      "execution_count": null,
      "outputs": [
        {
          "output_type": "execute_result",
          "data": {
            "text/plain": [
              "6"
            ]
          },
          "metadata": {},
          "execution_count": 12
        }
      ]
    },
    {
      "cell_type": "code",
      "source": [
        "K **= 2\n",
        "K"
      ],
      "metadata": {
        "colab": {
          "base_uri": "https://localhost:8080/"
        },
        "id": "Jtsh-Zpw3JYB",
        "outputId": "00f84505-6488-4d86-8569-e2fec09c4e87"
      },
      "execution_count": null,
      "outputs": [
        {
          "output_type": "execute_result",
          "data": {
            "text/plain": [
              "9"
            ]
          },
          "metadata": {},
          "execution_count": 13
        }
      ]
    },
    {
      "cell_type": "markdown",
      "source": [
        "### Comparator\n",
        "\n",
        "They are used to compare values.\n"
      ],
      "metadata": {
        "id": "6NhYoimd3aW8"
      }
    },
    {
      "cell_type": "code",
      "source": [
        "res_1, res_2, res_3 = 1, 2.0, \"1\"\n",
        "true_val = 1.0"
      ],
      "metadata": {
        "id": "XVqYLrKQ3fIW"
      },
      "execution_count": null,
      "outputs": []
    },
    {
      "cell_type": "code",
      "source": [
        "## Equality\n",
        "res_2 == true_val"
      ],
      "metadata": {
        "colab": {
          "base_uri": "https://localhost:8080/"
        },
        "id": "2H1Q3DyQ3ouG",
        "outputId": "f3a93403-c3ba-4b8b-b7e8-c0a06cd8ebec"
      },
      "execution_count": null,
      "outputs": [
        {
          "output_type": "execute_result",
          "data": {
            "text/plain": [
              "False"
            ]
          },
          "metadata": {},
          "execution_count": 15
        }
      ]
    },
    {
      "cell_type": "code",
      "source": [
        "## Non-equality\n",
        "res_3 != true_val"
      ],
      "metadata": {
        "colab": {
          "base_uri": "https://localhost:8080/"
        },
        "id": "_am7x8hR37nj",
        "outputId": "4ec07d3b-25fc-450b-f5a6-593bd0fc0b14"
      },
      "execution_count": null,
      "outputs": [
        {
          "output_type": "execute_result",
          "data": {
            "text/plain": [
              "True"
            ]
          },
          "metadata": {},
          "execution_count": 16
        }
      ]
    },
    {
      "cell_type": "code",
      "source": [
        "## Inequality\n",
        "t1 = res_1 > res_2\n",
        "t2 = res_1 < res_2/2\n",
        "t3 = res_1 >= res_2/res_2\n",
        "t4 = res_1 <= res_2\n",
        "t4"
      ],
      "metadata": {
        "colab": {
          "base_uri": "https://localhost:8080/"
        },
        "id": "pE8QDveb4C6m",
        "outputId": "48fd711e-47c9-4c82-d458-93353524ed64"
      },
      "execution_count": null,
      "outputs": [
        {
          "output_type": "execute_result",
          "data": {
            "text/plain": [
              "True"
            ]
          },
          "metadata": {},
          "execution_count": 17
        }
      ]
    },
    {
      "cell_type": "markdown",
      "source": [
        "### Logical\n",
        "\n",
        "They are used to merge various conditional statements.\n"
      ],
      "metadata": {
        "id": "irrQzzLp5aPa"
      }
    },
    {
      "cell_type": "code",
      "source": [
        "res_1 == true_val"
      ],
      "metadata": {
        "colab": {
          "base_uri": "https://localhost:8080/"
        },
        "id": "lHfa6cac5dMk",
        "outputId": "d015ea7a-0d9b-48a8-816f-f75158aafbde"
      },
      "execution_count": null,
      "outputs": [
        {
          "output_type": "execute_result",
          "data": {
            "text/plain": [
              "True"
            ]
          },
          "metadata": {},
          "execution_count": 18
        }
      ]
    },
    {
      "cell_type": "code",
      "source": [
        "res_1 is true_val"
      ],
      "metadata": {
        "colab": {
          "base_uri": "https://localhost:8080/"
        },
        "id": "Ne-qIpNc5joz",
        "outputId": "5a4c414f-c83f-4151-c468-3be5a8b4f706"
      },
      "execution_count": null,
      "outputs": [
        {
          "output_type": "execute_result",
          "data": {
            "text/plain": [
              "False"
            ]
          },
          "metadata": {},
          "execution_count": 19
        }
      ]
    },
    {
      "cell_type": "code",
      "source": [
        "res_1 is not true_val"
      ],
      "metadata": {
        "colab": {
          "base_uri": "https://localhost:8080/"
        },
        "id": "dObDaz945nmX",
        "outputId": "fc22e1bd-78a1-4490-c7da-66fcc2444f35"
      },
      "execution_count": null,
      "outputs": [
        {
          "output_type": "execute_result",
          "data": {
            "text/plain": [
              "True"
            ]
          },
          "metadata": {},
          "execution_count": 20
        }
      ]
    },
    {
      "cell_type": "code",
      "source": [
        "p ,q = True, False\n",
        "conj = p and q\n",
        "conj"
      ],
      "metadata": {
        "colab": {
          "base_uri": "https://localhost:8080/"
        },
        "id": "k8IiwYwy5qaG",
        "outputId": "4bdc2cb5-5319-4552-e616-1ae7ca9540a3"
      },
      "execution_count": null,
      "outputs": [
        {
          "output_type": "execute_result",
          "data": {
            "text/plain": [
              "False"
            ]
          },
          "metadata": {},
          "execution_count": 21
        }
      ]
    },
    {
      "cell_type": "code",
      "source": [
        "p ,q = True, False\n",
        "disj = p or q\n",
        "disj"
      ],
      "metadata": {
        "colab": {
          "base_uri": "https://localhost:8080/"
        },
        "id": "vcS4Frm_68Yb",
        "outputId": "728cf31c-dfd4-4ed7-94f7-d59664db1bf5"
      },
      "execution_count": null,
      "outputs": [
        {
          "output_type": "execute_result",
          "data": {
            "text/plain": [
              "True"
            ]
          },
          "metadata": {},
          "execution_count": 22
        }
      ]
    },
    {
      "cell_type": "code",
      "source": [
        "p ,q = True, False\n",
        "e = not(q)\n",
        "e"
      ],
      "metadata": {
        "colab": {
          "base_uri": "https://localhost:8080/"
        },
        "id": "jkjxKevU7CTP",
        "outputId": "c340f2d5-1680-4673-da24-ef4209dea83c"
      },
      "execution_count": null,
      "outputs": [
        {
          "output_type": "execute_result",
          "data": {
            "text/plain": [
              "True"
            ]
          },
          "metadata": {},
          "execution_count": 23
        }
      ]
    },
    {
      "cell_type": "code",
      "source": [
        "p, q = True, False\n",
        "xor = (not p and q) or (p and not q)\n",
        "xor"
      ],
      "metadata": {
        "colab": {
          "base_uri": "https://localhost:8080/"
        },
        "id": "rBY2nxtN7byx",
        "outputId": "96c48a71-c0b0-4cb4-8193-aab6c95fdb70"
      },
      "execution_count": null,
      "outputs": [
        {
          "output_type": "execute_result",
          "data": {
            "text/plain": [
              "True"
            ]
          },
          "metadata": {},
          "execution_count": 24
        }
      ]
    },
    {
      "cell_type": "markdown",
      "source": [
        "# **I/O**\n",
        "\n",
        "The input function pauses program execution to allow the user to enter data from the keyboard. All characters typed are read and returned as a string once the user presses the Enter key. You can collect data from your users by using input. A program will usually need to present data back to the user in addition to obtaining data from the user. You can use print to display program data or output to the console."
      ],
      "metadata": {
        "id": "uynu4as_7wsR"
      }
    },
    {
      "cell_type": "code",
      "source": [
        "print(\"Hello Universe\")"
      ],
      "metadata": {
        "colab": {
          "base_uri": "https://localhost:8080/"
        },
        "id": "cxTRJa9v7zgn",
        "outputId": "94dd02ba-1b04-4010-f01e-818ea0167749"
      },
      "execution_count": null,
      "outputs": [
        {
          "output_type": "stream",
          "name": "stdout",
          "text": [
            "Hello Universe\n"
          ]
        }
      ]
    },
    {
      "cell_type": "code",
      "source": [
        "cnt = 1"
      ],
      "metadata": {
        "id": "OzhausFE8C-2"
      },
      "execution_count": null,
      "outputs": []
    },
    {
      "cell_type": "code",
      "source": [
        "string = \"Hello Universe\"\n",
        "print( string, \", Current run count is:\", cnt)\n",
        "cnt += 4"
      ],
      "metadata": {
        "colab": {
          "base_uri": "https://localhost:8080/"
        },
        "id": "vl_evGIv8E8b",
        "outputId": "65f78a6f-ebc9-4124-92c7-fb816705abd0"
      },
      "execution_count": null,
      "outputs": [
        {
          "output_type": "stream",
          "name": "stdout",
          "text": [
            "Hello Universe , Current run count is: 5\n"
          ]
        }
      ]
    },
    {
      "cell_type": "code",
      "source": [
        "print(f\"{string}, Current count is: {cnt}\")\n"
      ],
      "metadata": {
        "colab": {
          "base_uri": "https://localhost:8080/"
        },
        "id": "hEpEy5CD8hAa",
        "outputId": "7eb44e44-1934-4de1-d450-6197616246af"
      },
      "execution_count": null,
      "outputs": [
        {
          "output_type": "stream",
          "name": "stdout",
          "text": [
            "Wassap Madlangpipol, Current count is: 5\n"
          ]
        }
      ]
    },
    {
      "cell_type": "code",
      "source": [
        "sem_grade = 82.243564657461234\n",
        "name = \"peyt\"\n",
        "print(\"Hello {}, your semestral grade is: {}\".format(name, sem_grade))"
      ],
      "metadata": {
        "colab": {
          "base_uri": "https://localhost:8080/"
        },
        "id": "DEgOwuEs9DXQ",
        "outputId": "35d6c696-9b0e-4701-f4fb-82a97b4edf92"
      },
      "execution_count": null,
      "outputs": [
        {
          "output_type": "stream",
          "name": "stdout",
          "text": [
            "Hello peyt, your semestral grade is: 82.24356465746123\n"
          ]
        }
      ]
    },
    {
      "cell_type": "code",
      "source": [
        "w_pg, w_mg, w_fg = 0.3, 0.3, 0.4\n",
        "print(\"The weights of your semestral grades are:\\\n",
        "\\n\\t{:.2%} for Prelims\\\n",
        "\\n\\t{:.2%} for Midterms, and\\\n",
        "\\n\\t{:.2%} for Finals.\".format(w_pg, w_mg, w_fg))"
      ],
      "metadata": {
        "id": "TybBXT3s9qDf",
        "colab": {
          "base_uri": "https://localhost:8080/"
        },
        "outputId": "e531aa08-4620-45b2-a533-4b1c8b8ed11a"
      },
      "execution_count": null,
      "outputs": [
        {
          "output_type": "stream",
          "name": "stdout",
          "text": [
            "The weights of your semestral grades are:\n",
            "\t30.00% for Prelims\n",
            "\t30.00% for Midterms, and\n",
            "\t40.00% for Finals.\n"
          ]
        }
      ]
    },
    {
      "cell_type": "code",
      "source": [
        "x = input(\"enter a number: \")"
      ],
      "metadata": {
        "id": "uPhpFTA_tkOm",
        "colab": {
          "base_uri": "https://localhost:8080/"
        },
        "outputId": "486aea42-74f0-4ee9-cc9e-6c11ed22ad62"
      },
      "execution_count": null,
      "outputs": [
        {
          "name": "stdout",
          "output_type": "stream",
          "text": [
            "enter a number: 9\n"
          ]
        }
      ]
    },
    {
      "cell_type": "code",
      "source": [
        "name = input(\"We don't talk about Bruno: \")\n",
        "pg = input(\"Enter prelim grade: \")\n",
        "mg = input(\"Enter midterm grade: \")\n",
        "fg = input(\"Enter finals grade: \")\n",
        "sem_grade = None\n",
        "print(\"Hello {}, your semestral grade is: {}\".format(name, sem_grade))"
      ],
      "metadata": {
        "id": "qhljfZlBudyt",
        "colab": {
          "base_uri": "https://localhost:8080/"
        },
        "outputId": "6c356eb4-de2b-4bb3-e8c0-b4670f6ba58a"
      },
      "execution_count": null,
      "outputs": [
        {
          "output_type": "stream",
          "name": "stdout",
          "text": [
            "We don't talk about Bruno: faith\n",
            "Enter prelim grade: 95\n",
            "Enter midterm grade: 98\n",
            "Enter finals grade: 93\n",
            "Hello faith, your semestral grade is: None\n"
          ]
        }
      ]
    },
    {
      "cell_type": "markdown",
      "source": [
        " # **Looping Statements**\n",
        "Loops are one of the most fundamental and powerful programming concepts. In a computer program, a loop is an instruction that is repeated until a certain condition is met. The loop in a loop structure asks a question. If the answer necessitates action, it is carried out. The same question is repeated until no further action is required. Iteration occurs each time the question is asked.\n"
      ],
      "metadata": {
        "id": "27DNC5htvzbL"
      }
    },
    {
      "cell_type": "markdown",
      "source": [
        "###While\n",
        "\n",
        "A while loop is a loop that is repeated as long as an expression is true. An expression is a statement that has a value."
      ],
      "metadata": {
        "id": "NmWsK7RfwD2F"
      }
    },
    {
      "cell_type": "code",
      "source": [
        "## while loops\n",
        "i, j = 0, 10\n",
        "while(i<=j) :\n",
        "    print(f\"{i}\\t|\\t{j}\")\n",
        "    i+=1"
      ],
      "metadata": {
        "id": "33XXH8S0wIXL",
        "colab": {
          "base_uri": "https://localhost:8080/"
        },
        "outputId": "268d56b4-f6b3-4c8e-9698-b06f8bfa89aa"
      },
      "execution_count": null,
      "outputs": [
        {
          "output_type": "stream",
          "name": "stdout",
          "text": [
            "0\t|\t10\n",
            "1\t|\t10\n",
            "2\t|\t10\n",
            "3\t|\t10\n",
            "4\t|\t10\n",
            "5\t|\t10\n",
            "6\t|\t10\n",
            "7\t|\t10\n",
            "8\t|\t10\n",
            "9\t|\t10\n",
            "10\t|\t10\n"
          ]
        }
      ]
    },
    {
      "cell_type": "markdown",
      "source": [
        "###For\n",
        "\n",
        "A for loop is a loop that runs for a preset number of times."
      ],
      "metadata": {
        "id": "_odP9LKSxbZD"
      }
    },
    {
      "cell_type": "code",
      "source": [
        "# for(int i=0; i<10; i++) {\n",
        "# printf(i)\n",
        "# }\n",
        "\n",
        "i=0\n",
        "for i in range(10):\n",
        "    print(i)\n"
      ],
      "metadata": {
        "id": "rTFGat-hxcv9",
        "colab": {
          "base_uri": "https://localhost:8080/"
        },
        "outputId": "afc60dc9-5077-46f4-c01d-52d46f804c68"
      },
      "execution_count": null,
      "outputs": [
        {
          "output_type": "stream",
          "name": "stdout",
          "text": [
            "0\n",
            "1\n",
            "2\n",
            "3\n",
            "4\n",
            "5\n",
            "6\n",
            "7\n",
            "8\n",
            "9\n"
          ]
        }
      ]
    },
    {
      "cell_type": "code",
      "source": [
        "playlist = [\"Gimmie the truth and the whole truth Bruno\",\"Isabella your boyfriend's here\",\"Time for dinner\"]\n",
        "print('Now Playing:\\n')\n",
        "for song in playlist:\n",
        "    print(song)"
      ],
      "metadata": {
        "id": "GTA2rUL_yH-X",
        "colab": {
          "base_uri": "https://localhost:8080/"
        },
        "outputId": "3d1555a7-5465-45ac-8d1a-81162e0a7035"
      },
      "execution_count": null,
      "outputs": [
        {
          "output_type": "stream",
          "name": "stdout",
          "text": [
            "Now Playing:\n",
            "\n",
            "Gimmie the truth and the whole truth Bruno\n",
            "Isabella your boyfriend's here\n",
            "Time for dinner\n"
          ]
        }
      ]
    },
    {
      "cell_type": "markdown",
      "source": [
        "#**Flow Control**\n",
        "\n",
        "The control flow of a program is the order in which the program's code executes. Conditional statements, loops, and function calls govern the control flow of a Python program."
      ],
      "metadata": {
        "id": "C4JAv45Vyn4b"
      }
    },
    {
      "cell_type": "markdown",
      "source": [
        "###Condition Statements\n",
        "\n",
        "Conditional statements, expressions, or simply conditionals are programming language features that instruct the computer to perform certain actions if certain conditions are met."
      ],
      "metadata": {
        "id": "_Lvmgxvzy1YA"
      }
    },
    {
      "cell_type": "code",
      "source": [
        "numeral1, numeral2 = 12, 13\n",
        "if(numeral1 == numeral2) :\n",
        "    print(\"Yey\")\n",
        "elif(numeral1>numeral2):\n",
        "    print(\"Hoho\")\n",
        "else:\n",
        "    print(\"Aww\")"
      ],
      "metadata": {
        "id": "mfzE9Plty4Bd",
        "colab": {
          "base_uri": "https://localhost:8080/"
        },
        "outputId": "b494d748-dc19-445b-99f4-10b28f85374f"
      },
      "execution_count": null,
      "outputs": [
        {
          "output_type": "stream",
          "name": "stdout",
          "text": [
            "Aww\n"
          ]
        }
      ]
    },
    {
      "cell_type": "markdown",
      "source": [
        "#**Functions**\n",
        "\n",
        "A function is a piece of code that performs a specific task. It is callable and reusable multiple times. You can pass data to a function, and it can return data to you. Many programming languages include built-in functions that can be accessed through their libraries, but you can also write your own."
      ],
      "metadata": {
        "id": "uPrBqMPt1jrP"
      }
    },
    {
      "cell_type": "code",
      "source": [
        "# void DeleteUser(int userid){\n",
        "#     delete(userid);\n",
        "# }\n",
        "\n",
        "def delete_user (userid):\n",
        "    print(\"Successfully deleted user: {}\".format(userid))\n",
        "\n",
        "def delete_all_users ():\n",
        "    print(\"It's not symmetrical or perfect but it's beautiful, and it's mine. WHAT ELSE CAN I DO\")\n"
      ],
      "metadata": {
        "id": "jyy7jjJ91mNv"
      },
      "execution_count": null,
      "outputs": []
    },
    {
      "cell_type": "code",
      "source": [
        "userid = \"Faith Policarpio\"\n",
        "delete_user(\"Faith Policarpio\")\n",
        "delete_all_users()"
      ],
      "metadata": {
        "colab": {
          "base_uri": "https://localhost:8080/"
        },
        "id": "LVI-euS62aPZ",
        "outputId": "b56281c7-b3e4-4c6f-97bd-1e72aee2b3ff"
      },
      "execution_count": null,
      "outputs": [
        {
          "output_type": "stream",
          "name": "stdout",
          "text": [
            "Successfully deleted user: Faith Policarpio\n",
            "It's not symmetrical or perfect but it's beautiful, and it's mine. WHAT ELSE CAN I DO\n"
          ]
        }
      ]
    },
    {
      "cell_type": "code",
      "source": [
        "def add(addend1, addend2):\n",
        "    return addend1 + addend2\n",
        "\n",
        "def power_of_base2(exponent):\n",
        "    return 2**exponent"
      ],
      "metadata": {
        "id": "_2-Is1St2_iY"
      },
      "execution_count": null,
      "outputs": []
    },
    {
      "cell_type": "code",
      "source": [
        "addend1, addend2 = 60,31\n",
        "add(addend1, addend2)\n",
        "\n",
        "exponent = 9\n",
        "power_of_base2(exponent)"
      ],
      "metadata": {
        "colab": {
          "base_uri": "https://localhost:8080/"
        },
        "id": "1UEeOKyQ3tJW",
        "outputId": "952c0fab-ca47-46e7-e788-b33903e685ce"
      },
      "execution_count": null,
      "outputs": [
        {
          "output_type": "execute_result",
          "data": {
            "text/plain": [
              "512"
            ]
          },
          "metadata": {},
          "execution_count": 40
        }
      ]
    },
    {
      "cell_type": "markdown",
      "source": [
        "#**GRADE CALCUTOR**"
      ],
      "metadata": {
        "id": "AIJJHlwZRiqp"
      }
    },
    {
      "cell_type": "code",
      "source": [
        "print(\"Grade Calculator\")\n",
        "\n",
        "Name =  input(\"Student's name: \")\n",
        "Course = input(\"Enter course: \")\n",
        "Program = input(\"Enter program: \")\n",
        "\n",
        "pg = float (input(\"Enter prelim grade: \"))\n",
        "mg = float (input(\"Enter midterm grade: \"))\n",
        "fg = float (input(\"Enter finals grade: \"))\n",
        "\n",
        "sem_grade = float ((pg*0.3)+(mg*0.3)+(fg*0.4))\n",
        "\n",
        "print(\"Hello {}, your semestral grade is: {:.2f}\" .format(Name, sem_grade))\n",
        "\n",
        "if(sem_grade == 70.00):\n",
        "  print(\"\\U0001F606\")\n",
        "elif(sem_grade > 70.00):\n",
        "  print(\"\\U0001f600\")\n",
        "else:\n",
        "  print(\"\\U0001F62D\")"
      ],
      "metadata": {
        "colab": {
          "base_uri": "https://localhost:8080/"
        },
        "id": "inzJ5M8EZXjV",
        "outputId": "63ec3154-a420-466b-a714-c721884ebe7f"
      },
      "execution_count": null,
      "outputs": [
        {
          "output_type": "stream",
          "name": "stdout",
          "text": [
            "Grade Calculator\n",
            "Student's name: Faith M. Policarpio\n",
            "Enter course: Linear Algebra\n",
            "Enter program: Chemical Engineering\n",
            "Enter prelim grade: 95\n",
            "Enter midterm grade: 94\n",
            "Enter finals grade: 97\n",
            "Hello Faith M. Policarpio, your semestral grade is: 95.50\n",
            "😀\n"
          ]
        }
      ]
    }
  ]
}